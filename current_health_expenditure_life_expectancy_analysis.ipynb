{
 "cells": [
  {
   "cell_type": "markdown",
   "id": "7efdc7b1-1d3f-472e-af17-6bd76c71feda",
   "metadata": {},
   "source": [
    "# Current Health Expenditure & Life Expectancy Analysis\n",
    "\n",
    "This project is an analysis of the Current Health Expenditure Per Capita in US$ and Life Expectancy across multiple countries."
   ]
  },
  {
   "cell_type": "code",
   "execution_count": 1016,
   "id": "3b3a281b-f993-4ad9-9ec3-c3cf93525b11",
   "metadata": {},
   "outputs": [],
   "source": [
    "# import dependencies\n",
    "import pandas as pd\n",
    "import numpy as np"
   ]
  },
  {
   "cell_type": "code",
   "execution_count": 1017,
   "id": "6ee3aa04-244c-48a0-811c-0e78329008fa",
   "metadata": {},
   "outputs": [],
   "source": [
    "%matplotlib inline\n",
    "from matplotlib import style\n",
    "style.use('fivethirtyeight')\n",
    "import matplotlib.pyplot as plt\n",
    "import matplotlib.cm as cm\n",
    "import plotly.graph_objects as go"
   ]
  },
  {
   "cell_type": "markdown",
   "id": "763719af-2763-444a-b85a-910404abbbca",
   "metadata": {},
   "source": [
    "## Cleaning and Exploring Data"
   ]
  },
  {
   "cell_type": "code",
   "execution_count": 1019,
   "id": "fcbb30bc-a57d-42c0-94da-2b56609e6b5d",
   "metadata": {},
   "outputs": [
    {
     "data": {
      "text/html": [
       "<div>\n",
       "<style scoped>\n",
       "    .dataframe tbody tr th:only-of-type {\n",
       "        vertical-align: middle;\n",
       "    }\n",
       "\n",
       "    .dataframe tbody tr th {\n",
       "        vertical-align: top;\n",
       "    }\n",
       "\n",
       "    .dataframe thead th {\n",
       "        text-align: right;\n",
       "    }\n",
       "</style>\n",
       "<table border=\"1\" class=\"dataframe\">\n",
       "  <thead>\n",
       "    <tr style=\"text-align: right;\">\n",
       "      <th></th>\n",
       "      <th>IndicatorCode</th>\n",
       "      <th>Indicator</th>\n",
       "      <th>ValueType</th>\n",
       "      <th>ParentLocationCode</th>\n",
       "      <th>ParentLocation</th>\n",
       "      <th>Location type</th>\n",
       "      <th>SpatialDimValueCode</th>\n",
       "      <th>Location</th>\n",
       "      <th>Period type</th>\n",
       "      <th>Period</th>\n",
       "      <th>...</th>\n",
       "      <th>FactValueUoM</th>\n",
       "      <th>FactValueNumericLowPrefix</th>\n",
       "      <th>FactValueNumericLow</th>\n",
       "      <th>FactValueNumericHighPrefix</th>\n",
       "      <th>FactValueNumericHigh</th>\n",
       "      <th>Value</th>\n",
       "      <th>FactValueTranslationID</th>\n",
       "      <th>FactComments</th>\n",
       "      <th>Language</th>\n",
       "      <th>DateModified</th>\n",
       "    </tr>\n",
       "  </thead>\n",
       "  <tbody>\n",
       "    <tr>\n",
       "      <th>0</th>\n",
       "      <td>GHED_CHE_pc_US_SHA2011</td>\n",
       "      <td>Current health expenditure (CHE) per capita in...</td>\n",
       "      <td>numeric</td>\n",
       "      <td>AMR</td>\n",
       "      <td>Americas</td>\n",
       "      <td>Country</td>\n",
       "      <td>CUB</td>\n",
       "      <td>Cuba</td>\n",
       "      <td>Year</td>\n",
       "      <td>2021</td>\n",
       "      <td>...</td>\n",
       "      <td>NaN</td>\n",
       "      <td>NaN</td>\n",
       "      <td>NaN</td>\n",
       "      <td>NaN</td>\n",
       "      <td>NaN</td>\n",
       "      <td>NaN</td>\n",
       "      <td>NaN</td>\n",
       "      <td>NaN</td>\n",
       "      <td>EN</td>\n",
       "      <td>2023-12-05T08:00:00.000Z</td>\n",
       "    </tr>\n",
       "    <tr>\n",
       "      <th>1</th>\n",
       "      <td>GHED_CHE_pc_US_SHA2011</td>\n",
       "      <td>Current health expenditure (CHE) per capita in...</td>\n",
       "      <td>numeric</td>\n",
       "      <td>AFR</td>\n",
       "      <td>Africa</td>\n",
       "      <td>Country</td>\n",
       "      <td>GHA</td>\n",
       "      <td>Ghana</td>\n",
       "      <td>Year</td>\n",
       "      <td>2021</td>\n",
       "      <td>...</td>\n",
       "      <td>NaN</td>\n",
       "      <td>NaN</td>\n",
       "      <td>NaN</td>\n",
       "      <td>NaN</td>\n",
       "      <td>NaN</td>\n",
       "      <td>100.00</td>\n",
       "      <td>NaN</td>\n",
       "      <td>NaN</td>\n",
       "      <td>EN</td>\n",
       "      <td>2023-12-05T08:00:00.000Z</td>\n",
       "    </tr>\n",
       "    <tr>\n",
       "      <th>2</th>\n",
       "      <td>GHED_CHE_pc_US_SHA2011</td>\n",
       "      <td>Current health expenditure (CHE) per capita in...</td>\n",
       "      <td>numeric</td>\n",
       "      <td>SEAR</td>\n",
       "      <td>South-East Asia</td>\n",
       "      <td>Country</td>\n",
       "      <td>MDV</td>\n",
       "      <td>Maldives</td>\n",
       "      <td>Year</td>\n",
       "      <td>2021</td>\n",
       "      <td>...</td>\n",
       "      <td>NaN</td>\n",
       "      <td>NaN</td>\n",
       "      <td>NaN</td>\n",
       "      <td>NaN</td>\n",
       "      <td>NaN</td>\n",
       "      <td>1038.67</td>\n",
       "      <td>NaN</td>\n",
       "      <td>NaN</td>\n",
       "      <td>EN</td>\n",
       "      <td>2023-12-05T08:00:00.000Z</td>\n",
       "    </tr>\n",
       "    <tr>\n",
       "      <th>3</th>\n",
       "      <td>GHED_CHE_pc_US_SHA2011</td>\n",
       "      <td>Current health expenditure (CHE) per capita in...</td>\n",
       "      <td>numeric</td>\n",
       "      <td>EUR</td>\n",
       "      <td>Europe</td>\n",
       "      <td>Country</td>\n",
       "      <td>BGR</td>\n",
       "      <td>Bulgaria</td>\n",
       "      <td>Year</td>\n",
       "      <td>2021</td>\n",
       "      <td>...</td>\n",
       "      <td>NaN</td>\n",
       "      <td>NaN</td>\n",
       "      <td>NaN</td>\n",
       "      <td>NaN</td>\n",
       "      <td>NaN</td>\n",
       "      <td>1040.02</td>\n",
       "      <td>NaN</td>\n",
       "      <td>NaN</td>\n",
       "      <td>EN</td>\n",
       "      <td>2023-12-05T08:00:00.000Z</td>\n",
       "    </tr>\n",
       "    <tr>\n",
       "      <th>4</th>\n",
       "      <td>GHED_CHE_pc_US_SHA2011</td>\n",
       "      <td>Current health expenditure (CHE) per capita in...</td>\n",
       "      <td>numeric</td>\n",
       "      <td>AMR</td>\n",
       "      <td>Americas</td>\n",
       "      <td>Country</td>\n",
       "      <td>ARG</td>\n",
       "      <td>Argentina</td>\n",
       "      <td>Year</td>\n",
       "      <td>2021</td>\n",
       "      <td>...</td>\n",
       "      <td>NaN</td>\n",
       "      <td>NaN</td>\n",
       "      <td>NaN</td>\n",
       "      <td>NaN</td>\n",
       "      <td>NaN</td>\n",
       "      <td>1044.77</td>\n",
       "      <td>NaN</td>\n",
       "      <td>NaN</td>\n",
       "      <td>EN</td>\n",
       "      <td>2023-12-05T08:00:00.000Z</td>\n",
       "    </tr>\n",
       "  </tbody>\n",
       "</table>\n",
       "<p>5 rows × 34 columns</p>\n",
       "</div>"
      ],
      "text/plain": [
       "            IndicatorCode                                          Indicator  \\\n",
       "0  GHED_CHE_pc_US_SHA2011  Current health expenditure (CHE) per capita in...   \n",
       "1  GHED_CHE_pc_US_SHA2011  Current health expenditure (CHE) per capita in...   \n",
       "2  GHED_CHE_pc_US_SHA2011  Current health expenditure (CHE) per capita in...   \n",
       "3  GHED_CHE_pc_US_SHA2011  Current health expenditure (CHE) per capita in...   \n",
       "4  GHED_CHE_pc_US_SHA2011  Current health expenditure (CHE) per capita in...   \n",
       "\n",
       "  ValueType ParentLocationCode   ParentLocation Location type  \\\n",
       "0   numeric                AMR         Americas       Country   \n",
       "1   numeric                AFR           Africa       Country   \n",
       "2   numeric               SEAR  South-East Asia       Country   \n",
       "3   numeric                EUR           Europe       Country   \n",
       "4   numeric                AMR         Americas       Country   \n",
       "\n",
       "  SpatialDimValueCode   Location Period type  Period  ...  FactValueUoM  \\\n",
       "0                 CUB       Cuba        Year    2021  ...           NaN   \n",
       "1                 GHA      Ghana        Year    2021  ...           NaN   \n",
       "2                 MDV   Maldives        Year    2021  ...           NaN   \n",
       "3                 BGR   Bulgaria        Year    2021  ...           NaN   \n",
       "4                 ARG  Argentina        Year    2021  ...           NaN   \n",
       "\n",
       "   FactValueNumericLowPrefix  FactValueNumericLow  FactValueNumericHighPrefix  \\\n",
       "0                        NaN                  NaN                         NaN   \n",
       "1                        NaN                  NaN                         NaN   \n",
       "2                        NaN                  NaN                         NaN   \n",
       "3                        NaN                  NaN                         NaN   \n",
       "4                        NaN                  NaN                         NaN   \n",
       "\n",
       "   FactValueNumericHigh    Value  FactValueTranslationID  FactComments  \\\n",
       "0                   NaN      NaN                     NaN           NaN   \n",
       "1                   NaN   100.00                     NaN           NaN   \n",
       "2                   NaN  1038.67                     NaN           NaN   \n",
       "3                   NaN  1040.02                     NaN           NaN   \n",
       "4                   NaN  1044.77                     NaN           NaN   \n",
       "\n",
       "   Language              DateModified  \n",
       "0        EN  2023-12-05T08:00:00.000Z  \n",
       "1        EN  2023-12-05T08:00:00.000Z  \n",
       "2        EN  2023-12-05T08:00:00.000Z  \n",
       "3        EN  2023-12-05T08:00:00.000Z  \n",
       "4        EN  2023-12-05T08:00:00.000Z  \n",
       "\n",
       "[5 rows x 34 columns]"
      ]
     },
     "execution_count": 1019,
     "metadata": {},
     "output_type": "execute_result"
    }
   ],
   "source": [
    "# read in current health expenditure data set\n",
    "che = pd.read_csv(\"data/current_health_expenditure.csv\")\n",
    "che.head()"
   ]
  },
  {
   "cell_type": "code",
   "execution_count": 1020,
   "id": "11b3297b-7624-4ee6-8ab0-101ca02a4c53",
   "metadata": {},
   "outputs": [
    {
     "name": "stdout",
     "output_type": "stream",
     "text": [
      "IndicatorCode                    0\n",
      "Indicator                        0\n",
      "ValueType                        0\n",
      "ParentLocationCode               0\n",
      "ParentLocation                   0\n",
      "Location type                    0\n",
      "SpatialDimValueCode              0\n",
      "Location                         0\n",
      "Period type                      0\n",
      "Period                           0\n",
      "IsLatestYear                     0\n",
      "Dim1 type                     4153\n",
      "Dim1                          4153\n",
      "Dim1ValueCode                 4153\n",
      "Dim2 type                     4153\n",
      "Dim2                          4153\n",
      "Dim2ValueCode                 4153\n",
      "Dim3 type                     4153\n",
      "Dim3                          4153\n",
      "Dim3ValueCode                 4153\n",
      "DataSourceDimValueCode        4153\n",
      "DataSource                    4153\n",
      "FactValueNumericPrefix        4153\n",
      "FactValueNumeric                19\n",
      "FactValueUoM                  4153\n",
      "FactValueNumericLowPrefix     4153\n",
      "FactValueNumericLow           4153\n",
      "FactValueNumericHighPrefix    4153\n",
      "FactValueNumericHigh          4153\n",
      "Value                           19\n",
      "FactValueTranslationID        4153\n",
      "FactComments                  4135\n",
      "Language                         0\n",
      "DateModified                     0\n",
      "dtype: int64\n"
     ]
    }
   ],
   "source": [
    "print(che.isnull().sum())"
   ]
  },
  {
   "cell_type": "code",
   "execution_count": 1021,
   "id": "cfbfedf4-a73f-4551-bb7d-078d542d628c",
   "metadata": {},
   "outputs": [],
   "source": [
    "che.drop(columns=['Indicator','IndicatorCode', 'ValueType', 'ParentLocationCode', 'SpatialDimValueCode','Period type','IsLatestYear',\n",
    "                        'Dim1 type', 'Dim1', 'Dim1ValueCode', 'Dim2 type', 'Dim2', 'Dim2ValueCode', 'Dim3 type', 'Dim3', \n",
    "                        'Dim3ValueCode', 'DataSourceDimValueCode', 'DataSource', 'FactValueNumericPrefix', 'FactValueNumeric',\n",
    "                       'FactValueUoM', 'FactValueNumericLowPrefix', 'FactValueNumericLow', 'FactValueNumericHighPrefix',\n",
    "                       'FactValueNumericHigh', 'FactValueTranslationID', 'FactComments', 'Language', 'DateModified'], inplace=True)"
   ]
  },
  {
   "cell_type": "code",
   "execution_count": 1022,
   "id": "4a546888-0df1-43e8-89be-743d5a1523fe",
   "metadata": {},
   "outputs": [
    {
     "data": {
      "text/html": [
       "<div>\n",
       "<style scoped>\n",
       "    .dataframe tbody tr th:only-of-type {\n",
       "        vertical-align: middle;\n",
       "    }\n",
       "\n",
       "    .dataframe tbody tr th {\n",
       "        vertical-align: top;\n",
       "    }\n",
       "\n",
       "    .dataframe thead th {\n",
       "        text-align: right;\n",
       "    }\n",
       "</style>\n",
       "<table border=\"1\" class=\"dataframe\">\n",
       "  <thead>\n",
       "    <tr style=\"text-align: right;\">\n",
       "      <th></th>\n",
       "      <th>ParentLocation</th>\n",
       "      <th>Location type</th>\n",
       "      <th>Location</th>\n",
       "      <th>Period</th>\n",
       "      <th>Value</th>\n",
       "    </tr>\n",
       "  </thead>\n",
       "  <tbody>\n",
       "    <tr>\n",
       "      <th>0</th>\n",
       "      <td>Americas</td>\n",
       "      <td>Country</td>\n",
       "      <td>Cuba</td>\n",
       "      <td>2021</td>\n",
       "      <td>NaN</td>\n",
       "    </tr>\n",
       "    <tr>\n",
       "      <th>1</th>\n",
       "      <td>Africa</td>\n",
       "      <td>Country</td>\n",
       "      <td>Ghana</td>\n",
       "      <td>2021</td>\n",
       "      <td>100.00</td>\n",
       "    </tr>\n",
       "    <tr>\n",
       "      <th>2</th>\n",
       "      <td>South-East Asia</td>\n",
       "      <td>Country</td>\n",
       "      <td>Maldives</td>\n",
       "      <td>2021</td>\n",
       "      <td>1038.67</td>\n",
       "    </tr>\n",
       "    <tr>\n",
       "      <th>3</th>\n",
       "      <td>Europe</td>\n",
       "      <td>Country</td>\n",
       "      <td>Bulgaria</td>\n",
       "      <td>2021</td>\n",
       "      <td>1040.02</td>\n",
       "    </tr>\n",
       "    <tr>\n",
       "      <th>4</th>\n",
       "      <td>Americas</td>\n",
       "      <td>Country</td>\n",
       "      <td>Argentina</td>\n",
       "      <td>2021</td>\n",
       "      <td>1044.77</td>\n",
       "    </tr>\n",
       "  </tbody>\n",
       "</table>\n",
       "</div>"
      ],
      "text/plain": [
       "    ParentLocation Location type   Location  Period    Value\n",
       "0         Americas       Country       Cuba    2021      NaN\n",
       "1           Africa       Country      Ghana    2021   100.00\n",
       "2  South-East Asia       Country   Maldives    2021  1038.67\n",
       "3           Europe       Country   Bulgaria    2021  1040.02\n",
       "4         Americas       Country  Argentina    2021  1044.77"
      ]
     },
     "execution_count": 1022,
     "metadata": {},
     "output_type": "execute_result"
    }
   ],
   "source": [
    "che.head()"
   ]
  },
  {
   "cell_type": "code",
   "execution_count": 1023,
   "id": "224c1d98-9d84-4bf7-adc6-7e5b1ae90c5d",
   "metadata": {},
   "outputs": [],
   "source": [
    "che.rename(columns={'ParentLocation': 'Continent', 'Location': 'Country', 'Period':'Year', 'Value': 'CHE per Capita'}, inplace=True)"
   ]
  },
  {
   "cell_type": "code",
   "execution_count": 1024,
   "id": "5fd42153-e69c-4dd8-bd9a-6a61a7a7a98c",
   "metadata": {},
   "outputs": [
    {
     "name": "stdout",
     "output_type": "stream",
     "text": [
      "Continent          0\n",
      "Location type      0\n",
      "Country            0\n",
      "Year               0\n",
      "CHE per Capita    19\n",
      "dtype: int64\n"
     ]
    }
   ],
   "source": [
    "print(che.isnull().sum())"
   ]
  },
  {
   "cell_type": "code",
   "execution_count": 1025,
   "id": "a9fbd3e7-2ce6-445d-939f-e928c880d6f5",
   "metadata": {},
   "outputs": [],
   "source": [
    "che.fillna({'CHE per Capita':0}, inplace = True)"
   ]
  },
  {
   "cell_type": "code",
   "execution_count": 1026,
   "id": "914725e9-5ea0-4655-b9ca-3942f15e812c",
   "metadata": {},
   "outputs": [
    {
     "name": "stdout",
     "output_type": "stream",
     "text": [
      "Continent         0\n",
      "Location type     0\n",
      "Country           0\n",
      "Year              0\n",
      "CHE per Capita    0\n",
      "dtype: int64\n"
     ]
    }
   ],
   "source": [
    "print(che.isnull().sum())"
   ]
  },
  {
   "cell_type": "code",
   "execution_count": 1027,
   "id": "1c518907-9b09-4e60-bdc9-6f8c51bcf8d9",
   "metadata": {},
   "outputs": [
    {
     "data": {
      "text/html": [
       "<div>\n",
       "<style scoped>\n",
       "    .dataframe tbody tr th:only-of-type {\n",
       "        vertical-align: middle;\n",
       "    }\n",
       "\n",
       "    .dataframe tbody tr th {\n",
       "        vertical-align: top;\n",
       "    }\n",
       "\n",
       "    .dataframe thead th {\n",
       "        text-align: right;\n",
       "    }\n",
       "</style>\n",
       "<table border=\"1\" class=\"dataframe\">\n",
       "  <thead>\n",
       "    <tr style=\"text-align: right;\">\n",
       "      <th></th>\n",
       "      <th>Continent</th>\n",
       "      <th>Location type</th>\n",
       "      <th>Country</th>\n",
       "      <th>Year</th>\n",
       "      <th>CHE per Capita</th>\n",
       "    </tr>\n",
       "  </thead>\n",
       "  <tbody>\n",
       "    <tr>\n",
       "      <th>0</th>\n",
       "      <td>Americas</td>\n",
       "      <td>Country</td>\n",
       "      <td>Cuba</td>\n",
       "      <td>2021</td>\n",
       "      <td>0.00</td>\n",
       "    </tr>\n",
       "    <tr>\n",
       "      <th>1</th>\n",
       "      <td>Africa</td>\n",
       "      <td>Country</td>\n",
       "      <td>Ghana</td>\n",
       "      <td>2021</td>\n",
       "      <td>100.00</td>\n",
       "    </tr>\n",
       "    <tr>\n",
       "      <th>2</th>\n",
       "      <td>South-East Asia</td>\n",
       "      <td>Country</td>\n",
       "      <td>Maldives</td>\n",
       "      <td>2021</td>\n",
       "      <td>1038.67</td>\n",
       "    </tr>\n",
       "    <tr>\n",
       "      <th>3</th>\n",
       "      <td>Europe</td>\n",
       "      <td>Country</td>\n",
       "      <td>Bulgaria</td>\n",
       "      <td>2021</td>\n",
       "      <td>1040.02</td>\n",
       "    </tr>\n",
       "    <tr>\n",
       "      <th>4</th>\n",
       "      <td>Americas</td>\n",
       "      <td>Country</td>\n",
       "      <td>Argentina</td>\n",
       "      <td>2021</td>\n",
       "      <td>1044.77</td>\n",
       "    </tr>\n",
       "  </tbody>\n",
       "</table>\n",
       "</div>"
      ],
      "text/plain": [
       "         Continent Location type    Country  Year  CHE per Capita\n",
       "0         Americas       Country       Cuba  2021            0.00\n",
       "1           Africa       Country      Ghana  2021          100.00\n",
       "2  South-East Asia       Country   Maldives  2021         1038.67\n",
       "3           Europe       Country   Bulgaria  2021         1040.02\n",
       "4         Americas       Country  Argentina  2021         1044.77"
      ]
     },
     "execution_count": 1027,
     "metadata": {},
     "output_type": "execute_result"
    }
   ],
   "source": [
    "che.head()"
   ]
  },
  {
   "cell_type": "code",
   "execution_count": 1028,
   "id": "1baea2af-61cf-4e06-863c-fd57a2e3dd3c",
   "metadata": {},
   "outputs": [
    {
     "data": {
      "text/html": [
       "<div>\n",
       "<style scoped>\n",
       "    .dataframe tbody tr th:only-of-type {\n",
       "        vertical-align: middle;\n",
       "    }\n",
       "\n",
       "    .dataframe tbody tr th {\n",
       "        vertical-align: top;\n",
       "    }\n",
       "\n",
       "    .dataframe thead th {\n",
       "        text-align: right;\n",
       "    }\n",
       "</style>\n",
       "<table border=\"1\" class=\"dataframe\">\n",
       "  <thead>\n",
       "    <tr style=\"text-align: right;\">\n",
       "      <th></th>\n",
       "      <th>IndicatorCode</th>\n",
       "      <th>Indicator</th>\n",
       "      <th>ValueType</th>\n",
       "      <th>ParentLocationCode</th>\n",
       "      <th>ParentLocation</th>\n",
       "      <th>Location type</th>\n",
       "      <th>SpatialDimValueCode</th>\n",
       "      <th>Location</th>\n",
       "      <th>Period type</th>\n",
       "      <th>Period</th>\n",
       "      <th>...</th>\n",
       "      <th>FactValueUoM</th>\n",
       "      <th>FactValueNumericLowPrefix</th>\n",
       "      <th>FactValueNumericLow</th>\n",
       "      <th>FactValueNumericHighPrefix</th>\n",
       "      <th>FactValueNumericHigh</th>\n",
       "      <th>Value</th>\n",
       "      <th>FactValueTranslationID</th>\n",
       "      <th>FactComments</th>\n",
       "      <th>Language</th>\n",
       "      <th>DateModified</th>\n",
       "    </tr>\n",
       "  </thead>\n",
       "  <tbody>\n",
       "    <tr>\n",
       "      <th>0</th>\n",
       "      <td>WHOSIS_000002</td>\n",
       "      <td>Healthy life expectancy (HALE) at birth (years)</td>\n",
       "      <td>text</td>\n",
       "      <td>AFR</td>\n",
       "      <td>Africa</td>\n",
       "      <td>Country</td>\n",
       "      <td>LSO</td>\n",
       "      <td>Lesotho</td>\n",
       "      <td>Year</td>\n",
       "      <td>2021</td>\n",
       "      <td>...</td>\n",
       "      <td>NaN</td>\n",
       "      <td>NaN</td>\n",
       "      <td>42.23</td>\n",
       "      <td>NaN</td>\n",
       "      <td>44.08</td>\n",
       "      <td>43.1 [42.2 – 44.1]</td>\n",
       "      <td>NaN</td>\n",
       "      <td>NaN</td>\n",
       "      <td>EN</td>\n",
       "      <td>2024-08-02T07:00:00.000Z</td>\n",
       "    </tr>\n",
       "    <tr>\n",
       "      <th>1</th>\n",
       "      <td>WHOSIS_000002</td>\n",
       "      <td>Healthy life expectancy (HALE) at birth (years)</td>\n",
       "      <td>text</td>\n",
       "      <td>AFR</td>\n",
       "      <td>Africa</td>\n",
       "      <td>Country</td>\n",
       "      <td>CAF</td>\n",
       "      <td>Central African Republic</td>\n",
       "      <td>Year</td>\n",
       "      <td>2021</td>\n",
       "      <td>...</td>\n",
       "      <td>NaN</td>\n",
       "      <td>NaN</td>\n",
       "      <td>42.74</td>\n",
       "      <td>NaN</td>\n",
       "      <td>44.97</td>\n",
       "      <td>43.8 [42.7 – 45.0]</td>\n",
       "      <td>NaN</td>\n",
       "      <td>NaN</td>\n",
       "      <td>EN</td>\n",
       "      <td>2024-08-02T07:00:00.000Z</td>\n",
       "    </tr>\n",
       "    <tr>\n",
       "      <th>2</th>\n",
       "      <td>WHOSIS_000002</td>\n",
       "      <td>Healthy life expectancy (HALE) at birth (years)</td>\n",
       "      <td>text</td>\n",
       "      <td>AFR</td>\n",
       "      <td>Africa</td>\n",
       "      <td>Country</td>\n",
       "      <td>LSO</td>\n",
       "      <td>Lesotho</td>\n",
       "      <td>Year</td>\n",
       "      <td>2021</td>\n",
       "      <td>...</td>\n",
       "      <td>NaN</td>\n",
       "      <td>NaN</td>\n",
       "      <td>43.66</td>\n",
       "      <td>NaN</td>\n",
       "      <td>45.76</td>\n",
       "      <td>44.6 [43.7 – 45.8]</td>\n",
       "      <td>NaN</td>\n",
       "      <td>NaN</td>\n",
       "      <td>EN</td>\n",
       "      <td>2024-08-02T07:00:00.000Z</td>\n",
       "    </tr>\n",
       "    <tr>\n",
       "      <th>3</th>\n",
       "      <td>WHOSIS_000002</td>\n",
       "      <td>Healthy life expectancy (HALE) at birth (years)</td>\n",
       "      <td>text</td>\n",
       "      <td>AFR</td>\n",
       "      <td>Africa</td>\n",
       "      <td>Country</td>\n",
       "      <td>CAF</td>\n",
       "      <td>Central African Republic</td>\n",
       "      <td>Year</td>\n",
       "      <td>2021</td>\n",
       "      <td>...</td>\n",
       "      <td>NaN</td>\n",
       "      <td>NaN</td>\n",
       "      <td>44.26</td>\n",
       "      <td>NaN</td>\n",
       "      <td>46.48</td>\n",
       "      <td>45.4 [44.3 – 46.5]</td>\n",
       "      <td>NaN</td>\n",
       "      <td>NaN</td>\n",
       "      <td>EN</td>\n",
       "      <td>2024-08-02T07:00:00.000Z</td>\n",
       "    </tr>\n",
       "    <tr>\n",
       "      <th>4</th>\n",
       "      <td>WHOSIS_000002</td>\n",
       "      <td>Healthy life expectancy (HALE) at birth (years)</td>\n",
       "      <td>text</td>\n",
       "      <td>AFR</td>\n",
       "      <td>Africa</td>\n",
       "      <td>Country</td>\n",
       "      <td>SWZ</td>\n",
       "      <td>Eswatini</td>\n",
       "      <td>Year</td>\n",
       "      <td>2021</td>\n",
       "      <td>...</td>\n",
       "      <td>NaN</td>\n",
       "      <td>NaN</td>\n",
       "      <td>44.85</td>\n",
       "      <td>NaN</td>\n",
       "      <td>46.98</td>\n",
       "      <td>45.8 [44.8 – 47.0]</td>\n",
       "      <td>NaN</td>\n",
       "      <td>NaN</td>\n",
       "      <td>EN</td>\n",
       "      <td>2024-08-02T07:00:00.000Z</td>\n",
       "    </tr>\n",
       "  </tbody>\n",
       "</table>\n",
       "<p>5 rows × 34 columns</p>\n",
       "</div>"
      ],
      "text/plain": [
       "   IndicatorCode                                        Indicator ValueType  \\\n",
       "0  WHOSIS_000002  Healthy life expectancy (HALE) at birth (years)      text   \n",
       "1  WHOSIS_000002  Healthy life expectancy (HALE) at birth (years)      text   \n",
       "2  WHOSIS_000002  Healthy life expectancy (HALE) at birth (years)      text   \n",
       "3  WHOSIS_000002  Healthy life expectancy (HALE) at birth (years)      text   \n",
       "4  WHOSIS_000002  Healthy life expectancy (HALE) at birth (years)      text   \n",
       "\n",
       "  ParentLocationCode ParentLocation Location type SpatialDimValueCode  \\\n",
       "0                AFR         Africa       Country                 LSO   \n",
       "1                AFR         Africa       Country                 CAF   \n",
       "2                AFR         Africa       Country                 LSO   \n",
       "3                AFR         Africa       Country                 CAF   \n",
       "4                AFR         Africa       Country                 SWZ   \n",
       "\n",
       "                   Location Period type  Period  ...  FactValueUoM  \\\n",
       "0                   Lesotho        Year    2021  ...           NaN   \n",
       "1  Central African Republic        Year    2021  ...           NaN   \n",
       "2                   Lesotho        Year    2021  ...           NaN   \n",
       "3  Central African Republic        Year    2021  ...           NaN   \n",
       "4                  Eswatini        Year    2021  ...           NaN   \n",
       "\n",
       "  FactValueNumericLowPrefix FactValueNumericLow FactValueNumericHighPrefix  \\\n",
       "0                       NaN               42.23                        NaN   \n",
       "1                       NaN               42.74                        NaN   \n",
       "2                       NaN               43.66                        NaN   \n",
       "3                       NaN               44.26                        NaN   \n",
       "4                       NaN               44.85                        NaN   \n",
       "\n",
       "   FactValueNumericHigh               Value  FactValueTranslationID  \\\n",
       "0                 44.08  43.1 [42.2 – 44.1]                     NaN   \n",
       "1                 44.97  43.8 [42.7 – 45.0]                     NaN   \n",
       "2                 45.76  44.6 [43.7 – 45.8]                     NaN   \n",
       "3                 46.48  45.4 [44.3 – 46.5]                     NaN   \n",
       "4                 46.98  45.8 [44.8 – 47.0]                     NaN   \n",
       "\n",
       "   FactComments  Language              DateModified  \n",
       "0           NaN        EN  2024-08-02T07:00:00.000Z  \n",
       "1           NaN        EN  2024-08-02T07:00:00.000Z  \n",
       "2           NaN        EN  2024-08-02T07:00:00.000Z  \n",
       "3           NaN        EN  2024-08-02T07:00:00.000Z  \n",
       "4           NaN        EN  2024-08-02T07:00:00.000Z  \n",
       "\n",
       "[5 rows x 34 columns]"
      ]
     },
     "execution_count": 1028,
     "metadata": {},
     "output_type": "execute_result"
    }
   ],
   "source": [
    "# read in current health expenditure data set\n",
    "hle = pd.read_csv(\"data/health_life_expectancy.csv\")\n",
    "hle.head()"
   ]
  },
  {
   "cell_type": "code",
   "execution_count": 1029,
   "id": "35ac2674-ecaa-4933-b784-9bfeec7ca045",
   "metadata": {},
   "outputs": [
    {
     "name": "stdout",
     "output_type": "stream",
     "text": [
      "IndicatorCode                     0\n",
      "Indicator                         0\n",
      "ValueType                         0\n",
      "ParentLocationCode                0\n",
      "ParentLocation                    0\n",
      "Location type                     0\n",
      "SpatialDimValueCode               0\n",
      "Location                          0\n",
      "Period type                       0\n",
      "Period                            0\n",
      "IsLatestYear                      0\n",
      "Dim1 type                         0\n",
      "Dim1                              0\n",
      "Dim1ValueCode                     0\n",
      "Dim2 type                     24420\n",
      "Dim2                          24420\n",
      "Dim2ValueCode                 24420\n",
      "Dim3 type                     24420\n",
      "Dim3                          24420\n",
      "Dim3ValueCode                 24420\n",
      "DataSourceDimValueCode        24420\n",
      "DataSource                    24420\n",
      "FactValueNumericPrefix        24420\n",
      "FactValueNumeric                  0\n",
      "FactValueUoM                  24420\n",
      "FactValueNumericLowPrefix     24420\n",
      "FactValueNumericLow              40\n",
      "FactValueNumericHighPrefix    24420\n",
      "FactValueNumericHigh             40\n",
      "Value                             0\n",
      "FactValueTranslationID        24420\n",
      "FactComments                  24420\n",
      "Language                          0\n",
      "DateModified                      0\n",
      "dtype: int64\n"
     ]
    }
   ],
   "source": [
    "print(hle.isnull().sum())"
   ]
  },
  {
   "cell_type": "code",
   "execution_count": 1030,
   "id": "e1598940-ba22-4a67-8cc1-311e790d98d5",
   "metadata": {},
   "outputs": [],
   "source": [
    "hle.drop(columns=['IndicatorCode','IndicatorCode', 'ValueType', 'ParentLocationCode', 'SpatialDimValueCode','Period type','IsLatestYear',\n",
    "                        'Dim1 type', 'Dim1ValueCode', 'Dim2 type', 'Dim2', 'Dim2ValueCode', 'Dim3 type', 'Dim3', \n",
    "                        'Dim3ValueCode', 'DataSourceDimValueCode', 'DataSource', 'FactValueNumericPrefix', 'Value',\n",
    "                       'FactValueUoM', 'FactValueNumericLowPrefix', 'FactValueNumericLow', 'FactValueNumericHighPrefix',\n",
    "                       'FactValueNumericHigh', 'FactValueTranslationID', 'FactComments', 'Language', 'DateModified'], inplace=True)"
   ]
  },
  {
   "cell_type": "code",
   "execution_count": 1031,
   "id": "1b9bdabd-bbcc-4d8b-86c0-b2f0d34274af",
   "metadata": {},
   "outputs": [
    {
     "data": {
      "text/html": [
       "<div>\n",
       "<style scoped>\n",
       "    .dataframe tbody tr th:only-of-type {\n",
       "        vertical-align: middle;\n",
       "    }\n",
       "\n",
       "    .dataframe tbody tr th {\n",
       "        vertical-align: top;\n",
       "    }\n",
       "\n",
       "    .dataframe thead th {\n",
       "        text-align: right;\n",
       "    }\n",
       "</style>\n",
       "<table border=\"1\" class=\"dataframe\">\n",
       "  <thead>\n",
       "    <tr style=\"text-align: right;\">\n",
       "      <th></th>\n",
       "      <th>Indicator</th>\n",
       "      <th>ParentLocation</th>\n",
       "      <th>Location type</th>\n",
       "      <th>Location</th>\n",
       "      <th>Period</th>\n",
       "      <th>Dim1</th>\n",
       "      <th>FactValueNumeric</th>\n",
       "    </tr>\n",
       "  </thead>\n",
       "  <tbody>\n",
       "    <tr>\n",
       "      <th>0</th>\n",
       "      <td>Healthy life expectancy (HALE) at birth (years)</td>\n",
       "      <td>Africa</td>\n",
       "      <td>Country</td>\n",
       "      <td>Lesotho</td>\n",
       "      <td>2021</td>\n",
       "      <td>Male</td>\n",
       "      <td>43.10</td>\n",
       "    </tr>\n",
       "    <tr>\n",
       "      <th>1</th>\n",
       "      <td>Healthy life expectancy (HALE) at birth (years)</td>\n",
       "      <td>Africa</td>\n",
       "      <td>Country</td>\n",
       "      <td>Central African Republic</td>\n",
       "      <td>2021</td>\n",
       "      <td>Male</td>\n",
       "      <td>43.78</td>\n",
       "    </tr>\n",
       "    <tr>\n",
       "      <th>2</th>\n",
       "      <td>Healthy life expectancy (HALE) at birth (years)</td>\n",
       "      <td>Africa</td>\n",
       "      <td>Country</td>\n",
       "      <td>Lesotho</td>\n",
       "      <td>2021</td>\n",
       "      <td>Both sexes</td>\n",
       "      <td>44.63</td>\n",
       "    </tr>\n",
       "    <tr>\n",
       "      <th>3</th>\n",
       "      <td>Healthy life expectancy (HALE) at birth (years)</td>\n",
       "      <td>Africa</td>\n",
       "      <td>Country</td>\n",
       "      <td>Central African Republic</td>\n",
       "      <td>2021</td>\n",
       "      <td>Both sexes</td>\n",
       "      <td>45.43</td>\n",
       "    </tr>\n",
       "    <tr>\n",
       "      <th>4</th>\n",
       "      <td>Healthy life expectancy (HALE) at birth (years)</td>\n",
       "      <td>Africa</td>\n",
       "      <td>Country</td>\n",
       "      <td>Eswatini</td>\n",
       "      <td>2021</td>\n",
       "      <td>Male</td>\n",
       "      <td>45.79</td>\n",
       "    </tr>\n",
       "  </tbody>\n",
       "</table>\n",
       "</div>"
      ],
      "text/plain": [
       "                                         Indicator ParentLocation  \\\n",
       "0  Healthy life expectancy (HALE) at birth (years)         Africa   \n",
       "1  Healthy life expectancy (HALE) at birth (years)         Africa   \n",
       "2  Healthy life expectancy (HALE) at birth (years)         Africa   \n",
       "3  Healthy life expectancy (HALE) at birth (years)         Africa   \n",
       "4  Healthy life expectancy (HALE) at birth (years)         Africa   \n",
       "\n",
       "  Location type                  Location  Period        Dim1  \\\n",
       "0       Country                   Lesotho    2021        Male   \n",
       "1       Country  Central African Republic    2021        Male   \n",
       "2       Country                   Lesotho    2021  Both sexes   \n",
       "3       Country  Central African Republic    2021  Both sexes   \n",
       "4       Country                  Eswatini    2021        Male   \n",
       "\n",
       "   FactValueNumeric  \n",
       "0             43.10  \n",
       "1             43.78  \n",
       "2             44.63  \n",
       "3             45.43  \n",
       "4             45.79  "
      ]
     },
     "execution_count": 1031,
     "metadata": {},
     "output_type": "execute_result"
    }
   ],
   "source": [
    "hle.head()"
   ]
  },
  {
   "cell_type": "code",
   "execution_count": 1032,
   "id": "2779fe0b-0fa5-4bff-919e-c5980f4a7c36",
   "metadata": {},
   "outputs": [],
   "source": [
    "hle.rename(columns={'ParentLocation': 'Continent', 'Location': 'Country', 'Period':'Year', 'Dim1': 'Gender', 'FactValueNumeric': 'Avg HLE'}, inplace=True)"
   ]
  },
  {
   "cell_type": "code",
   "execution_count": 1033,
   "id": "caab5d33-bad9-4428-9b03-bd91b6a5f209",
   "metadata": {},
   "outputs": [
    {
     "data": {
      "text/html": [
       "<div>\n",
       "<style scoped>\n",
       "    .dataframe tbody tr th:only-of-type {\n",
       "        vertical-align: middle;\n",
       "    }\n",
       "\n",
       "    .dataframe tbody tr th {\n",
       "        vertical-align: top;\n",
       "    }\n",
       "\n",
       "    .dataframe thead th {\n",
       "        text-align: right;\n",
       "    }\n",
       "</style>\n",
       "<table border=\"1\" class=\"dataframe\">\n",
       "  <thead>\n",
       "    <tr style=\"text-align: right;\">\n",
       "      <th></th>\n",
       "      <th>Indicator</th>\n",
       "      <th>Continent</th>\n",
       "      <th>Location type</th>\n",
       "      <th>Country</th>\n",
       "      <th>Year</th>\n",
       "      <th>Gender</th>\n",
       "      <th>Avg HLE</th>\n",
       "    </tr>\n",
       "  </thead>\n",
       "  <tbody>\n",
       "    <tr>\n",
       "      <th>0</th>\n",
       "      <td>Healthy life expectancy (HALE) at birth (years)</td>\n",
       "      <td>Africa</td>\n",
       "      <td>Country</td>\n",
       "      <td>Lesotho</td>\n",
       "      <td>2021</td>\n",
       "      <td>Male</td>\n",
       "      <td>43.10</td>\n",
       "    </tr>\n",
       "    <tr>\n",
       "      <th>1</th>\n",
       "      <td>Healthy life expectancy (HALE) at birth (years)</td>\n",
       "      <td>Africa</td>\n",
       "      <td>Country</td>\n",
       "      <td>Central African Republic</td>\n",
       "      <td>2021</td>\n",
       "      <td>Male</td>\n",
       "      <td>43.78</td>\n",
       "    </tr>\n",
       "    <tr>\n",
       "      <th>2</th>\n",
       "      <td>Healthy life expectancy (HALE) at birth (years)</td>\n",
       "      <td>Africa</td>\n",
       "      <td>Country</td>\n",
       "      <td>Lesotho</td>\n",
       "      <td>2021</td>\n",
       "      <td>Both sexes</td>\n",
       "      <td>44.63</td>\n",
       "    </tr>\n",
       "    <tr>\n",
       "      <th>3</th>\n",
       "      <td>Healthy life expectancy (HALE) at birth (years)</td>\n",
       "      <td>Africa</td>\n",
       "      <td>Country</td>\n",
       "      <td>Central African Republic</td>\n",
       "      <td>2021</td>\n",
       "      <td>Both sexes</td>\n",
       "      <td>45.43</td>\n",
       "    </tr>\n",
       "    <tr>\n",
       "      <th>4</th>\n",
       "      <td>Healthy life expectancy (HALE) at birth (years)</td>\n",
       "      <td>Africa</td>\n",
       "      <td>Country</td>\n",
       "      <td>Eswatini</td>\n",
       "      <td>2021</td>\n",
       "      <td>Male</td>\n",
       "      <td>45.79</td>\n",
       "    </tr>\n",
       "  </tbody>\n",
       "</table>\n",
       "</div>"
      ],
      "text/plain": [
       "                                         Indicator Continent Location type  \\\n",
       "0  Healthy life expectancy (HALE) at birth (years)    Africa       Country   \n",
       "1  Healthy life expectancy (HALE) at birth (years)    Africa       Country   \n",
       "2  Healthy life expectancy (HALE) at birth (years)    Africa       Country   \n",
       "3  Healthy life expectancy (HALE) at birth (years)    Africa       Country   \n",
       "4  Healthy life expectancy (HALE) at birth (years)    Africa       Country   \n",
       "\n",
       "                    Country  Year      Gender  Avg HLE  \n",
       "0                   Lesotho  2021        Male    43.10  \n",
       "1  Central African Republic  2021        Male    43.78  \n",
       "2                   Lesotho  2021  Both sexes    44.63  \n",
       "3  Central African Republic  2021  Both sexes    45.43  \n",
       "4                  Eswatini  2021        Male    45.79  "
      ]
     },
     "execution_count": 1033,
     "metadata": {},
     "output_type": "execute_result"
    }
   ],
   "source": [
    "hle.head()"
   ]
  },
  {
   "cell_type": "code",
   "execution_count": 1034,
   "id": "196faa9f-936b-4c78-8651-cc3b2ab1ac55",
   "metadata": {},
   "outputs": [
    {
     "name": "stdout",
     "output_type": "stream",
     "text": [
      "Indicator        0\n",
      "Continent        0\n",
      "Location type    0\n",
      "Country          0\n",
      "Year             0\n",
      "Gender           0\n",
      "Avg HLE          0\n",
      "dtype: int64\n"
     ]
    }
   ],
   "source": [
    "print(hle.isnull().sum())"
   ]
  },
  {
   "cell_type": "code",
   "execution_count": 1035,
   "id": "45da2392-3bfb-470d-8c11-b064e8b209f6",
   "metadata": {},
   "outputs": [],
   "source": [
    "hle = hle[hle['Gender'] != 'Male']"
   ]
  },
  {
   "cell_type": "code",
   "execution_count": 1036,
   "id": "8ddd2154-81ec-40b7-a549-407c4586ed6a",
   "metadata": {},
   "outputs": [],
   "source": [
    "hle = hle[hle['Gender'] != 'Female']"
   ]
  },
  {
   "cell_type": "code",
   "execution_count": 1037,
   "id": "9195cb54-f5c7-4d42-a0fd-f4678f21d5a7",
   "metadata": {},
   "outputs": [],
   "source": [
    "hle = hle[hle['Indicator'] != 'Healthy life expectancy (HALE) at age 60 (years)']"
   ]
  },
  {
   "cell_type": "code",
   "execution_count": 1038,
   "id": "708c205e-d872-41c2-8366-ff9c7d1d4b74",
   "metadata": {},
   "outputs": [
    {
     "data": {
      "text/html": [
       "<div>\n",
       "<style scoped>\n",
       "    .dataframe tbody tr th:only-of-type {\n",
       "        vertical-align: middle;\n",
       "    }\n",
       "\n",
       "    .dataframe tbody tr th {\n",
       "        vertical-align: top;\n",
       "    }\n",
       "\n",
       "    .dataframe thead th {\n",
       "        text-align: right;\n",
       "    }\n",
       "</style>\n",
       "<table border=\"1\" class=\"dataframe\">\n",
       "  <thead>\n",
       "    <tr style=\"text-align: right;\">\n",
       "      <th></th>\n",
       "      <th>Indicator</th>\n",
       "      <th>Continent</th>\n",
       "      <th>Location type</th>\n",
       "      <th>Country</th>\n",
       "      <th>Year</th>\n",
       "      <th>Gender</th>\n",
       "      <th>Avg HLE</th>\n",
       "    </tr>\n",
       "  </thead>\n",
       "  <tbody>\n",
       "    <tr>\n",
       "      <th>2</th>\n",
       "      <td>Healthy life expectancy (HALE) at birth (years)</td>\n",
       "      <td>Africa</td>\n",
       "      <td>Country</td>\n",
       "      <td>Lesotho</td>\n",
       "      <td>2021</td>\n",
       "      <td>Both sexes</td>\n",
       "      <td>44.63</td>\n",
       "    </tr>\n",
       "    <tr>\n",
       "      <th>3</th>\n",
       "      <td>Healthy life expectancy (HALE) at birth (years)</td>\n",
       "      <td>Africa</td>\n",
       "      <td>Country</td>\n",
       "      <td>Central African Republic</td>\n",
       "      <td>2021</td>\n",
       "      <td>Both sexes</td>\n",
       "      <td>45.43</td>\n",
       "    </tr>\n",
       "    <tr>\n",
       "      <th>8</th>\n",
       "      <td>Healthy life expectancy (HALE) at birth (years)</td>\n",
       "      <td>Eastern Mediterranean</td>\n",
       "      <td>Country</td>\n",
       "      <td>Somalia</td>\n",
       "      <td>2021</td>\n",
       "      <td>Both sexes</td>\n",
       "      <td>47.42</td>\n",
       "    </tr>\n",
       "    <tr>\n",
       "      <th>9</th>\n",
       "      <td>Healthy life expectancy (HALE) at birth (years)</td>\n",
       "      <td>Africa</td>\n",
       "      <td>Country</td>\n",
       "      <td>Eswatini</td>\n",
       "      <td>2021</td>\n",
       "      <td>Both sexes</td>\n",
       "      <td>47.47</td>\n",
       "    </tr>\n",
       "    <tr>\n",
       "      <th>15</th>\n",
       "      <td>Healthy life expectancy (HALE) at birth (years)</td>\n",
       "      <td>Africa</td>\n",
       "      <td>Country</td>\n",
       "      <td>Mozambique</td>\n",
       "      <td>2021</td>\n",
       "      <td>Both sexes</td>\n",
       "      <td>49.72</td>\n",
       "    </tr>\n",
       "  </tbody>\n",
       "</table>\n",
       "</div>"
      ],
      "text/plain": [
       "                                          Indicator              Continent  \\\n",
       "2   Healthy life expectancy (HALE) at birth (years)                 Africa   \n",
       "3   Healthy life expectancy (HALE) at birth (years)                 Africa   \n",
       "8   Healthy life expectancy (HALE) at birth (years)  Eastern Mediterranean   \n",
       "9   Healthy life expectancy (HALE) at birth (years)                 Africa   \n",
       "15  Healthy life expectancy (HALE) at birth (years)                 Africa   \n",
       "\n",
       "   Location type                   Country  Year      Gender  Avg HLE  \n",
       "2        Country                   Lesotho  2021  Both sexes    44.63  \n",
       "3        Country  Central African Republic  2021  Both sexes    45.43  \n",
       "8        Country                   Somalia  2021  Both sexes    47.42  \n",
       "9        Country                  Eswatini  2021  Both sexes    47.47  \n",
       "15       Country                Mozambique  2021  Both sexes    49.72  "
      ]
     },
     "execution_count": 1038,
     "metadata": {},
     "output_type": "execute_result"
    }
   ],
   "source": [
    "hle.head()"
   ]
  },
  {
   "cell_type": "code",
   "execution_count": 1039,
   "id": "2eee4b06-64ac-4383-b15f-aeddb31380fc",
   "metadata": {},
   "outputs": [],
   "source": [
    "hle.drop(columns=['Gender', 'Indicator'], inplace = True)"
   ]
  },
  {
   "cell_type": "code",
   "execution_count": 1040,
   "id": "f1c630f9-8868-471a-9609-a53f52649b9f",
   "metadata": {},
   "outputs": [
    {
     "data": {
      "text/html": [
       "<div>\n",
       "<style scoped>\n",
       "    .dataframe tbody tr th:only-of-type {\n",
       "        vertical-align: middle;\n",
       "    }\n",
       "\n",
       "    .dataframe tbody tr th {\n",
       "        vertical-align: top;\n",
       "    }\n",
       "\n",
       "    .dataframe thead th {\n",
       "        text-align: right;\n",
       "    }\n",
       "</style>\n",
       "<table border=\"1\" class=\"dataframe\">\n",
       "  <thead>\n",
       "    <tr style=\"text-align: right;\">\n",
       "      <th></th>\n",
       "      <th>Continent</th>\n",
       "      <th>Location type</th>\n",
       "      <th>Country</th>\n",
       "      <th>Year</th>\n",
       "      <th>Avg HLE</th>\n",
       "    </tr>\n",
       "  </thead>\n",
       "  <tbody>\n",
       "    <tr>\n",
       "      <th>2</th>\n",
       "      <td>Africa</td>\n",
       "      <td>Country</td>\n",
       "      <td>Lesotho</td>\n",
       "      <td>2021</td>\n",
       "      <td>44.63</td>\n",
       "    </tr>\n",
       "    <tr>\n",
       "      <th>3</th>\n",
       "      <td>Africa</td>\n",
       "      <td>Country</td>\n",
       "      <td>Central African Republic</td>\n",
       "      <td>2021</td>\n",
       "      <td>45.43</td>\n",
       "    </tr>\n",
       "    <tr>\n",
       "      <th>8</th>\n",
       "      <td>Eastern Mediterranean</td>\n",
       "      <td>Country</td>\n",
       "      <td>Somalia</td>\n",
       "      <td>2021</td>\n",
       "      <td>47.42</td>\n",
       "    </tr>\n",
       "    <tr>\n",
       "      <th>9</th>\n",
       "      <td>Africa</td>\n",
       "      <td>Country</td>\n",
       "      <td>Eswatini</td>\n",
       "      <td>2021</td>\n",
       "      <td>47.47</td>\n",
       "    </tr>\n",
       "    <tr>\n",
       "      <th>15</th>\n",
       "      <td>Africa</td>\n",
       "      <td>Country</td>\n",
       "      <td>Mozambique</td>\n",
       "      <td>2021</td>\n",
       "      <td>49.72</td>\n",
       "    </tr>\n",
       "  </tbody>\n",
       "</table>\n",
       "</div>"
      ],
      "text/plain": [
       "                Continent Location type                   Country  Year  \\\n",
       "2                  Africa       Country                   Lesotho  2021   \n",
       "3                  Africa       Country  Central African Republic  2021   \n",
       "8   Eastern Mediterranean       Country                   Somalia  2021   \n",
       "9                  Africa       Country                  Eswatini  2021   \n",
       "15                 Africa       Country                Mozambique  2021   \n",
       "\n",
       "    Avg HLE  \n",
       "2     44.63  \n",
       "3     45.43  \n",
       "8     47.42  \n",
       "9     47.47  \n",
       "15    49.72  "
      ]
     },
     "execution_count": 1040,
     "metadata": {},
     "output_type": "execute_result"
    }
   ],
   "source": [
    "hle.head()"
   ]
  },
  {
   "cell_type": "code",
   "execution_count": 1041,
   "id": "19383861-b14e-41bd-8d71-9b2e01339080",
   "metadata": {},
   "outputs": [],
   "source": [
    "combined_df = pd.merge(che, hle, on=['Country','Year', ], how='left')"
   ]
  },
  {
   "cell_type": "code",
   "execution_count": 1042,
   "id": "bbb4c1d0-3c98-4b38-b62d-9e613d3cebe9",
   "metadata": {},
   "outputs": [
    {
     "data": {
      "text/html": [
       "<div>\n",
       "<style scoped>\n",
       "    .dataframe tbody tr th:only-of-type {\n",
       "        vertical-align: middle;\n",
       "    }\n",
       "\n",
       "    .dataframe tbody tr th {\n",
       "        vertical-align: top;\n",
       "    }\n",
       "\n",
       "    .dataframe thead th {\n",
       "        text-align: right;\n",
       "    }\n",
       "</style>\n",
       "<table border=\"1\" class=\"dataframe\">\n",
       "  <thead>\n",
       "    <tr style=\"text-align: right;\">\n",
       "      <th></th>\n",
       "      <th>Continent_x</th>\n",
       "      <th>Location type_x</th>\n",
       "      <th>Country</th>\n",
       "      <th>Year</th>\n",
       "      <th>CHE per Capita</th>\n",
       "      <th>Continent_y</th>\n",
       "      <th>Location type_y</th>\n",
       "      <th>Avg HLE</th>\n",
       "    </tr>\n",
       "  </thead>\n",
       "  <tbody>\n",
       "    <tr>\n",
       "      <th>0</th>\n",
       "      <td>Americas</td>\n",
       "      <td>Country</td>\n",
       "      <td>Cuba</td>\n",
       "      <td>2021</td>\n",
       "      <td>0.00</td>\n",
       "      <td>Americas</td>\n",
       "      <td>Country</td>\n",
       "      <td>64.62</td>\n",
       "    </tr>\n",
       "    <tr>\n",
       "      <th>1</th>\n",
       "      <td>Africa</td>\n",
       "      <td>Country</td>\n",
       "      <td>Ghana</td>\n",
       "      <td>2021</td>\n",
       "      <td>100.00</td>\n",
       "      <td>Africa</td>\n",
       "      <td>Country</td>\n",
       "      <td>57.88</td>\n",
       "    </tr>\n",
       "    <tr>\n",
       "      <th>2</th>\n",
       "      <td>South-East Asia</td>\n",
       "      <td>Country</td>\n",
       "      <td>Maldives</td>\n",
       "      <td>2021</td>\n",
       "      <td>1038.67</td>\n",
       "      <td>South-East Asia</td>\n",
       "      <td>Country</td>\n",
       "      <td>66.67</td>\n",
       "    </tr>\n",
       "    <tr>\n",
       "      <th>3</th>\n",
       "      <td>Europe</td>\n",
       "      <td>Country</td>\n",
       "      <td>Bulgaria</td>\n",
       "      <td>2021</td>\n",
       "      <td>1040.02</td>\n",
       "      <td>Europe</td>\n",
       "      <td>Country</td>\n",
       "      <td>62.39</td>\n",
       "    </tr>\n",
       "    <tr>\n",
       "      <th>4</th>\n",
       "      <td>Americas</td>\n",
       "      <td>Country</td>\n",
       "      <td>Argentina</td>\n",
       "      <td>2021</td>\n",
       "      <td>1044.77</td>\n",
       "      <td>Americas</td>\n",
       "      <td>Country</td>\n",
       "      <td>64.79</td>\n",
       "    </tr>\n",
       "  </tbody>\n",
       "</table>\n",
       "</div>"
      ],
      "text/plain": [
       "       Continent_x Location type_x    Country  Year  CHE per Capita  \\\n",
       "0         Americas         Country       Cuba  2021            0.00   \n",
       "1           Africa         Country      Ghana  2021          100.00   \n",
       "2  South-East Asia         Country   Maldives  2021         1038.67   \n",
       "3           Europe         Country   Bulgaria  2021         1040.02   \n",
       "4         Americas         Country  Argentina  2021         1044.77   \n",
       "\n",
       "       Continent_y Location type_y  Avg HLE  \n",
       "0         Americas         Country    64.62  \n",
       "1           Africa         Country    57.88  \n",
       "2  South-East Asia         Country    66.67  \n",
       "3           Europe         Country    62.39  \n",
       "4         Americas         Country    64.79  "
      ]
     },
     "execution_count": 1042,
     "metadata": {},
     "output_type": "execute_result"
    }
   ],
   "source": [
    "combined_df.head()"
   ]
  },
  {
   "cell_type": "code",
   "execution_count": 1043,
   "id": "ca796134-c4b6-48d9-bdbf-1633e04ba5af",
   "metadata": {},
   "outputs": [],
   "source": [
    "combined_df.drop(columns=['Continent_y', 'Location type_y', 'Location type_x'], inplace = True)"
   ]
  },
  {
   "cell_type": "code",
   "execution_count": 1044,
   "id": "78ae9d1a-8d64-4286-94ce-adc7a22011bf",
   "metadata": {},
   "outputs": [
    {
     "data": {
      "text/html": [
       "<div>\n",
       "<style scoped>\n",
       "    .dataframe tbody tr th:only-of-type {\n",
       "        vertical-align: middle;\n",
       "    }\n",
       "\n",
       "    .dataframe tbody tr th {\n",
       "        vertical-align: top;\n",
       "    }\n",
       "\n",
       "    .dataframe thead th {\n",
       "        text-align: right;\n",
       "    }\n",
       "</style>\n",
       "<table border=\"1\" class=\"dataframe\">\n",
       "  <thead>\n",
       "    <tr style=\"text-align: right;\">\n",
       "      <th></th>\n",
       "      <th>Continent_x</th>\n",
       "      <th>Country</th>\n",
       "      <th>Year</th>\n",
       "      <th>CHE per Capita</th>\n",
       "      <th>Avg HLE</th>\n",
       "    </tr>\n",
       "  </thead>\n",
       "  <tbody>\n",
       "    <tr>\n",
       "      <th>0</th>\n",
       "      <td>Americas</td>\n",
       "      <td>Cuba</td>\n",
       "      <td>2021</td>\n",
       "      <td>0.00</td>\n",
       "      <td>64.62</td>\n",
       "    </tr>\n",
       "    <tr>\n",
       "      <th>1</th>\n",
       "      <td>Africa</td>\n",
       "      <td>Ghana</td>\n",
       "      <td>2021</td>\n",
       "      <td>100.00</td>\n",
       "      <td>57.88</td>\n",
       "    </tr>\n",
       "    <tr>\n",
       "      <th>2</th>\n",
       "      <td>South-East Asia</td>\n",
       "      <td>Maldives</td>\n",
       "      <td>2021</td>\n",
       "      <td>1038.67</td>\n",
       "      <td>66.67</td>\n",
       "    </tr>\n",
       "    <tr>\n",
       "      <th>3</th>\n",
       "      <td>Europe</td>\n",
       "      <td>Bulgaria</td>\n",
       "      <td>2021</td>\n",
       "      <td>1040.02</td>\n",
       "      <td>62.39</td>\n",
       "    </tr>\n",
       "    <tr>\n",
       "      <th>4</th>\n",
       "      <td>Americas</td>\n",
       "      <td>Argentina</td>\n",
       "      <td>2021</td>\n",
       "      <td>1044.77</td>\n",
       "      <td>64.79</td>\n",
       "    </tr>\n",
       "  </tbody>\n",
       "</table>\n",
       "</div>"
      ],
      "text/plain": [
       "       Continent_x    Country  Year  CHE per Capita  Avg HLE\n",
       "0         Americas       Cuba  2021            0.00    64.62\n",
       "1           Africa      Ghana  2021          100.00    57.88\n",
       "2  South-East Asia   Maldives  2021         1038.67    66.67\n",
       "3           Europe   Bulgaria  2021         1040.02    62.39\n",
       "4         Americas  Argentina  2021         1044.77    64.79"
      ]
     },
     "execution_count": 1044,
     "metadata": {},
     "output_type": "execute_result"
    }
   ],
   "source": [
    "combined_df.head()"
   ]
  },
  {
   "cell_type": "code",
   "execution_count": 1045,
   "id": "668a5d61-32e3-4007-8f68-cefc57eb53d1",
   "metadata": {},
   "outputs": [],
   "source": [
    "combined_df.rename(columns={'Continent_x': 'Continent', 'Period':'Year', 'Dim1': 'Gender', 'FactValueNumeric': 'Avg HLE'}, inplace=True)"
   ]
  },
  {
   "cell_type": "code",
   "execution_count": 1046,
   "id": "a691caa2-1c80-4ffc-ae7e-3e274d19b847",
   "metadata": {},
   "outputs": [
    {
     "data": {
      "text/html": [
       "<div>\n",
       "<style scoped>\n",
       "    .dataframe tbody tr th:only-of-type {\n",
       "        vertical-align: middle;\n",
       "    }\n",
       "\n",
       "    .dataframe tbody tr th {\n",
       "        vertical-align: top;\n",
       "    }\n",
       "\n",
       "    .dataframe thead th {\n",
       "        text-align: right;\n",
       "    }\n",
       "</style>\n",
       "<table border=\"1\" class=\"dataframe\">\n",
       "  <thead>\n",
       "    <tr style=\"text-align: right;\">\n",
       "      <th></th>\n",
       "      <th>Continent</th>\n",
       "      <th>Country</th>\n",
       "      <th>Year</th>\n",
       "      <th>CHE per Capita</th>\n",
       "      <th>Avg HLE</th>\n",
       "    </tr>\n",
       "  </thead>\n",
       "  <tbody>\n",
       "    <tr>\n",
       "      <th>0</th>\n",
       "      <td>Americas</td>\n",
       "      <td>Cuba</td>\n",
       "      <td>2021</td>\n",
       "      <td>0.00</td>\n",
       "      <td>64.62</td>\n",
       "    </tr>\n",
       "    <tr>\n",
       "      <th>1</th>\n",
       "      <td>Africa</td>\n",
       "      <td>Ghana</td>\n",
       "      <td>2021</td>\n",
       "      <td>100.00</td>\n",
       "      <td>57.88</td>\n",
       "    </tr>\n",
       "    <tr>\n",
       "      <th>2</th>\n",
       "      <td>South-East Asia</td>\n",
       "      <td>Maldives</td>\n",
       "      <td>2021</td>\n",
       "      <td>1038.67</td>\n",
       "      <td>66.67</td>\n",
       "    </tr>\n",
       "    <tr>\n",
       "      <th>3</th>\n",
       "      <td>Europe</td>\n",
       "      <td>Bulgaria</td>\n",
       "      <td>2021</td>\n",
       "      <td>1040.02</td>\n",
       "      <td>62.39</td>\n",
       "    </tr>\n",
       "    <tr>\n",
       "      <th>4</th>\n",
       "      <td>Americas</td>\n",
       "      <td>Argentina</td>\n",
       "      <td>2021</td>\n",
       "      <td>1044.77</td>\n",
       "      <td>64.79</td>\n",
       "    </tr>\n",
       "  </tbody>\n",
       "</table>\n",
       "</div>"
      ],
      "text/plain": [
       "         Continent    Country  Year  CHE per Capita  Avg HLE\n",
       "0         Americas       Cuba  2021            0.00    64.62\n",
       "1           Africa      Ghana  2021          100.00    57.88\n",
       "2  South-East Asia   Maldives  2021         1038.67    66.67\n",
       "3           Europe   Bulgaria  2021         1040.02    62.39\n",
       "4         Americas  Argentina  2021         1044.77    64.79"
      ]
     },
     "execution_count": 1046,
     "metadata": {},
     "output_type": "execute_result"
    }
   ],
   "source": [
    "combined_df.head()"
   ]
  },
  {
   "cell_type": "code",
   "execution_count": 1047,
   "id": "e1dac65f-ffe2-40f1-ac88-0bf97b567bea",
   "metadata": {},
   "outputs": [],
   "source": [
    "combined_df = combined_df.query('2010 <= Year <= 2021') "
   ]
  },
  {
   "cell_type": "code",
   "execution_count": 1048,
   "id": "813949d5-5f19-4dce-91c3-b35e0f5a0c8f",
   "metadata": {},
   "outputs": [],
   "source": [
    "unique_years = combined_df['Year'].unique()"
   ]
  },
  {
   "cell_type": "code",
   "execution_count": 1049,
   "id": "dd7f4000-2514-4e21-9f21-0b3609cadc78",
   "metadata": {},
   "outputs": [],
   "source": [
    "duplicates = combined_df[combined_df.duplicated(keep=False)]"
   ]
  },
  {
   "cell_type": "code",
   "execution_count": 1050,
   "id": "dfcae9b3-deea-469d-b949-4ed6f8f25b44",
   "metadata": {},
   "outputs": [
    {
     "name": "stdout",
     "output_type": "stream",
     "text": [
      "Empty DataFrame\n",
      "Columns: [Continent, Country, Year, CHE per Capita, Avg HLE]\n",
      "Index: []\n"
     ]
    }
   ],
   "source": [
    "print(duplicates)"
   ]
  },
  {
   "cell_type": "code",
   "execution_count": 1051,
   "id": "6effa3c3-1711-40e6-b0cc-dada285442d8",
   "metadata": {},
   "outputs": [],
   "source": [
    "combined_df.columns = combined_df.columns.str.strip()"
   ]
  },
  {
   "cell_type": "markdown",
   "id": "7d75b220-84dd-45c5-a33d-f916a3ddc8ca",
   "metadata": {},
   "source": [
    "# Data Analysis"
   ]
  },
  {
   "cell_type": "markdown",
   "id": "603b1f04-918e-4c0d-910b-4a3287ddfd7c",
   "metadata": {},
   "source": [
    "## CHE Overtime"
   ]
  },
  {
   "cell_type": "code",
   "execution_count": 1223,
   "id": "b875ccc5-e925-4452-b0c5-bafb4d8b7ff0",
   "metadata": {},
   "outputs": [
    {
     "name": "stdout",
     "output_type": "stream",
     "text": [
      "Pivoted DataFrame:\n",
      "     Year  CHE per Capita\n",
      "0   2010        188810.0\n",
      "1   2011        207843.0\n",
      "2   2012        202508.0\n",
      "3   2013        209635.0\n",
      "4   2014        214655.0\n",
      "5   2015        194654.0\n",
      "6   2016        198532.0\n",
      "7   2017        208398.0\n",
      "8   2018        220154.0\n",
      "9   2019        220868.0\n",
      "10  2020        231589.0\n",
      "11  2021        260020.0\n"
     ]
    }
   ],
   "source": [
    "# CHE overtime \n",
    "pivot_total_che = combined_df.pivot_table(index='Year', values='CHE per Capita', aggfunc='sum').round().reset_index()\n",
    "# pivot_total_che['CHE per Capita'] = pivot_total_che['CHE per Capita'].apply(lambda x: f\"{x:,.0f}\") \n",
    "print(\"Pivoted DataFrame:\\n\", pivot_total_che)"
   ]
  },
  {
   "cell_type": "code",
   "execution_count": 1229,
   "id": "1d671e33-f494-4279-9fb6-3506f7790dbf",
   "metadata": {},
   "outputs": [
    {
     "data": {
      "application/vnd.plotly.v1+json": {
       "config": {
        "plotlyServerURL": "https://plot.ly"
       },
       "data": [
        {
         "marker": {
          "color": "skyblue"
         },
         "name": "Total CHE Overtime",
         "text": [
          188810,
          207843,
          202508,
          209635,
          214655,
          194654,
          198532,
          208398,
          220154,
          220868,
          231589,
          260020
         ],
         "textposition": "auto",
         "type": "bar",
         "x": [
          2010,
          2011,
          2012,
          2013,
          2014,
          2015,
          2016,
          2017,
          2018,
          2019,
          2020,
          2021
         ],
         "y": [
          188810,
          207843,
          202508,
          209635,
          214655,
          194654,
          198532,
          208398,
          220154,
          220868,
          231589,
          260020
         ]
        }
       ],
       "layout": {
        "autosize": true,
        "barmode": "group",
        "template": {
         "data": {
          "bar": [
           {
            "error_x": {
             "color": "#2a3f5f"
            },
            "error_y": {
             "color": "#2a3f5f"
            },
            "marker": {
             "line": {
              "color": "white",
              "width": 0.5
             },
             "pattern": {
              "fillmode": "overlay",
              "size": 10,
              "solidity": 0.2
             }
            },
            "type": "bar"
           }
          ],
          "barpolar": [
           {
            "marker": {
             "line": {
              "color": "white",
              "width": 0.5
             },
             "pattern": {
              "fillmode": "overlay",
              "size": 10,
              "solidity": 0.2
             }
            },
            "type": "barpolar"
           }
          ],
          "carpet": [
           {
            "aaxis": {
             "endlinecolor": "#2a3f5f",
             "gridcolor": "#C8D4E3",
             "linecolor": "#C8D4E3",
             "minorgridcolor": "#C8D4E3",
             "startlinecolor": "#2a3f5f"
            },
            "baxis": {
             "endlinecolor": "#2a3f5f",
             "gridcolor": "#C8D4E3",
             "linecolor": "#C8D4E3",
             "minorgridcolor": "#C8D4E3",
             "startlinecolor": "#2a3f5f"
            },
            "type": "carpet"
           }
          ],
          "choropleth": [
           {
            "colorbar": {
             "outlinewidth": 0,
             "ticks": ""
            },
            "type": "choropleth"
           }
          ],
          "contour": [
           {
            "colorbar": {
             "outlinewidth": 0,
             "ticks": ""
            },
            "colorscale": [
             [
              0,
              "#0d0887"
             ],
             [
              0.1111111111111111,
              "#46039f"
             ],
             [
              0.2222222222222222,
              "#7201a8"
             ],
             [
              0.3333333333333333,
              "#9c179e"
             ],
             [
              0.4444444444444444,
              "#bd3786"
             ],
             [
              0.5555555555555556,
              "#d8576b"
             ],
             [
              0.6666666666666666,
              "#ed7953"
             ],
             [
              0.7777777777777778,
              "#fb9f3a"
             ],
             [
              0.8888888888888888,
              "#fdca26"
             ],
             [
              1,
              "#f0f921"
             ]
            ],
            "type": "contour"
           }
          ],
          "contourcarpet": [
           {
            "colorbar": {
             "outlinewidth": 0,
             "ticks": ""
            },
            "type": "contourcarpet"
           }
          ],
          "heatmap": [
           {
            "colorbar": {
             "outlinewidth": 0,
             "ticks": ""
            },
            "colorscale": [
             [
              0,
              "#0d0887"
             ],
             [
              0.1111111111111111,
              "#46039f"
             ],
             [
              0.2222222222222222,
              "#7201a8"
             ],
             [
              0.3333333333333333,
              "#9c179e"
             ],
             [
              0.4444444444444444,
              "#bd3786"
             ],
             [
              0.5555555555555556,
              "#d8576b"
             ],
             [
              0.6666666666666666,
              "#ed7953"
             ],
             [
              0.7777777777777778,
              "#fb9f3a"
             ],
             [
              0.8888888888888888,
              "#fdca26"
             ],
             [
              1,
              "#f0f921"
             ]
            ],
            "type": "heatmap"
           }
          ],
          "heatmapgl": [
           {
            "colorbar": {
             "outlinewidth": 0,
             "ticks": ""
            },
            "colorscale": [
             [
              0,
              "#0d0887"
             ],
             [
              0.1111111111111111,
              "#46039f"
             ],
             [
              0.2222222222222222,
              "#7201a8"
             ],
             [
              0.3333333333333333,
              "#9c179e"
             ],
             [
              0.4444444444444444,
              "#bd3786"
             ],
             [
              0.5555555555555556,
              "#d8576b"
             ],
             [
              0.6666666666666666,
              "#ed7953"
             ],
             [
              0.7777777777777778,
              "#fb9f3a"
             ],
             [
              0.8888888888888888,
              "#fdca26"
             ],
             [
              1,
              "#f0f921"
             ]
            ],
            "type": "heatmapgl"
           }
          ],
          "histogram": [
           {
            "marker": {
             "pattern": {
              "fillmode": "overlay",
              "size": 10,
              "solidity": 0.2
             }
            },
            "type": "histogram"
           }
          ],
          "histogram2d": [
           {
            "colorbar": {
             "outlinewidth": 0,
             "ticks": ""
            },
            "colorscale": [
             [
              0,
              "#0d0887"
             ],
             [
              0.1111111111111111,
              "#46039f"
             ],
             [
              0.2222222222222222,
              "#7201a8"
             ],
             [
              0.3333333333333333,
              "#9c179e"
             ],
             [
              0.4444444444444444,
              "#bd3786"
             ],
             [
              0.5555555555555556,
              "#d8576b"
             ],
             [
              0.6666666666666666,
              "#ed7953"
             ],
             [
              0.7777777777777778,
              "#fb9f3a"
             ],
             [
              0.8888888888888888,
              "#fdca26"
             ],
             [
              1,
              "#f0f921"
             ]
            ],
            "type": "histogram2d"
           }
          ],
          "histogram2dcontour": [
           {
            "colorbar": {
             "outlinewidth": 0,
             "ticks": ""
            },
            "colorscale": [
             [
              0,
              "#0d0887"
             ],
             [
              0.1111111111111111,
              "#46039f"
             ],
             [
              0.2222222222222222,
              "#7201a8"
             ],
             [
              0.3333333333333333,
              "#9c179e"
             ],
             [
              0.4444444444444444,
              "#bd3786"
             ],
             [
              0.5555555555555556,
              "#d8576b"
             ],
             [
              0.6666666666666666,
              "#ed7953"
             ],
             [
              0.7777777777777778,
              "#fb9f3a"
             ],
             [
              0.8888888888888888,
              "#fdca26"
             ],
             [
              1,
              "#f0f921"
             ]
            ],
            "type": "histogram2dcontour"
           }
          ],
          "mesh3d": [
           {
            "colorbar": {
             "outlinewidth": 0,
             "ticks": ""
            },
            "type": "mesh3d"
           }
          ],
          "parcoords": [
           {
            "line": {
             "colorbar": {
              "outlinewidth": 0,
              "ticks": ""
             }
            },
            "type": "parcoords"
           }
          ],
          "pie": [
           {
            "automargin": true,
            "type": "pie"
           }
          ],
          "scatter": [
           {
            "fillpattern": {
             "fillmode": "overlay",
             "size": 10,
             "solidity": 0.2
            },
            "type": "scatter"
           }
          ],
          "scatter3d": [
           {
            "line": {
             "colorbar": {
              "outlinewidth": 0,
              "ticks": ""
             }
            },
            "marker": {
             "colorbar": {
              "outlinewidth": 0,
              "ticks": ""
             }
            },
            "type": "scatter3d"
           }
          ],
          "scattercarpet": [
           {
            "marker": {
             "colorbar": {
              "outlinewidth": 0,
              "ticks": ""
             }
            },
            "type": "scattercarpet"
           }
          ],
          "scattergeo": [
           {
            "marker": {
             "colorbar": {
              "outlinewidth": 0,
              "ticks": ""
             }
            },
            "type": "scattergeo"
           }
          ],
          "scattergl": [
           {
            "marker": {
             "colorbar": {
              "outlinewidth": 0,
              "ticks": ""
             }
            },
            "type": "scattergl"
           }
          ],
          "scattermapbox": [
           {
            "marker": {
             "colorbar": {
              "outlinewidth": 0,
              "ticks": ""
             }
            },
            "type": "scattermapbox"
           }
          ],
          "scatterpolar": [
           {
            "marker": {
             "colorbar": {
              "outlinewidth": 0,
              "ticks": ""
             }
            },
            "type": "scatterpolar"
           }
          ],
          "scatterpolargl": [
           {
            "marker": {
             "colorbar": {
              "outlinewidth": 0,
              "ticks": ""
             }
            },
            "type": "scatterpolargl"
           }
          ],
          "scatterternary": [
           {
            "marker": {
             "colorbar": {
              "outlinewidth": 0,
              "ticks": ""
             }
            },
            "type": "scatterternary"
           }
          ],
          "surface": [
           {
            "colorbar": {
             "outlinewidth": 0,
             "ticks": ""
            },
            "colorscale": [
             [
              0,
              "#0d0887"
             ],
             [
              0.1111111111111111,
              "#46039f"
             ],
             [
              0.2222222222222222,
              "#7201a8"
             ],
             [
              0.3333333333333333,
              "#9c179e"
             ],
             [
              0.4444444444444444,
              "#bd3786"
             ],
             [
              0.5555555555555556,
              "#d8576b"
             ],
             [
              0.6666666666666666,
              "#ed7953"
             ],
             [
              0.7777777777777778,
              "#fb9f3a"
             ],
             [
              0.8888888888888888,
              "#fdca26"
             ],
             [
              1,
              "#f0f921"
             ]
            ],
            "type": "surface"
           }
          ],
          "table": [
           {
            "cells": {
             "fill": {
              "color": "#EBF0F8"
             },
             "line": {
              "color": "white"
             }
            },
            "header": {
             "fill": {
              "color": "#C8D4E3"
             },
             "line": {
              "color": "white"
             }
            },
            "type": "table"
           }
          ]
         },
         "layout": {
          "annotationdefaults": {
           "arrowcolor": "#2a3f5f",
           "arrowhead": 0,
           "arrowwidth": 1
          },
          "autotypenumbers": "strict",
          "coloraxis": {
           "colorbar": {
            "outlinewidth": 0,
            "ticks": ""
           }
          },
          "colorscale": {
           "diverging": [
            [
             0,
             "#8e0152"
            ],
            [
             0.1,
             "#c51b7d"
            ],
            [
             0.2,
             "#de77ae"
            ],
            [
             0.3,
             "#f1b6da"
            ],
            [
             0.4,
             "#fde0ef"
            ],
            [
             0.5,
             "#f7f7f7"
            ],
            [
             0.6,
             "#e6f5d0"
            ],
            [
             0.7,
             "#b8e186"
            ],
            [
             0.8,
             "#7fbc41"
            ],
            [
             0.9,
             "#4d9221"
            ],
            [
             1,
             "#276419"
            ]
           ],
           "sequential": [
            [
             0,
             "#0d0887"
            ],
            [
             0.1111111111111111,
             "#46039f"
            ],
            [
             0.2222222222222222,
             "#7201a8"
            ],
            [
             0.3333333333333333,
             "#9c179e"
            ],
            [
             0.4444444444444444,
             "#bd3786"
            ],
            [
             0.5555555555555556,
             "#d8576b"
            ],
            [
             0.6666666666666666,
             "#ed7953"
            ],
            [
             0.7777777777777778,
             "#fb9f3a"
            ],
            [
             0.8888888888888888,
             "#fdca26"
            ],
            [
             1,
             "#f0f921"
            ]
           ],
           "sequentialminus": [
            [
             0,
             "#0d0887"
            ],
            [
             0.1111111111111111,
             "#46039f"
            ],
            [
             0.2222222222222222,
             "#7201a8"
            ],
            [
             0.3333333333333333,
             "#9c179e"
            ],
            [
             0.4444444444444444,
             "#bd3786"
            ],
            [
             0.5555555555555556,
             "#d8576b"
            ],
            [
             0.6666666666666666,
             "#ed7953"
            ],
            [
             0.7777777777777778,
             "#fb9f3a"
            ],
            [
             0.8888888888888888,
             "#fdca26"
            ],
            [
             1,
             "#f0f921"
            ]
           ]
          },
          "colorway": [
           "#636efa",
           "#EF553B",
           "#00cc96",
           "#ab63fa",
           "#FFA15A",
           "#19d3f3",
           "#FF6692",
           "#B6E880",
           "#FF97FF",
           "#FECB52"
          ],
          "font": {
           "color": "#2a3f5f"
          },
          "geo": {
           "bgcolor": "white",
           "lakecolor": "white",
           "landcolor": "white",
           "showlakes": true,
           "showland": true,
           "subunitcolor": "#C8D4E3"
          },
          "hoverlabel": {
           "align": "left"
          },
          "hovermode": "closest",
          "mapbox": {
           "style": "light"
          },
          "paper_bgcolor": "white",
          "plot_bgcolor": "white",
          "polar": {
           "angularaxis": {
            "gridcolor": "#EBF0F8",
            "linecolor": "#EBF0F8",
            "ticks": ""
           },
           "bgcolor": "white",
           "radialaxis": {
            "gridcolor": "#EBF0F8",
            "linecolor": "#EBF0F8",
            "ticks": ""
           }
          },
          "scene": {
           "xaxis": {
            "backgroundcolor": "white",
            "gridcolor": "#DFE8F3",
            "gridwidth": 2,
            "linecolor": "#EBF0F8",
            "showbackground": true,
            "ticks": "",
            "zerolinecolor": "#EBF0F8"
           },
           "yaxis": {
            "backgroundcolor": "white",
            "gridcolor": "#DFE8F3",
            "gridwidth": 2,
            "linecolor": "#EBF0F8",
            "showbackground": true,
            "ticks": "",
            "zerolinecolor": "#EBF0F8"
           },
           "zaxis": {
            "backgroundcolor": "white",
            "gridcolor": "#DFE8F3",
            "gridwidth": 2,
            "linecolor": "#EBF0F8",
            "showbackground": true,
            "ticks": "",
            "zerolinecolor": "#EBF0F8"
           }
          },
          "shapedefaults": {
           "line": {
            "color": "#2a3f5f"
           }
          },
          "ternary": {
           "aaxis": {
            "gridcolor": "#DFE8F3",
            "linecolor": "#A2B1C6",
            "ticks": ""
           },
           "baxis": {
            "gridcolor": "#DFE8F3",
            "linecolor": "#A2B1C6",
            "ticks": ""
           },
           "bgcolor": "white",
           "caxis": {
            "gridcolor": "#DFE8F3",
            "linecolor": "#A2B1C6",
            "ticks": ""
           }
          },
          "title": {
           "x": 0.05
          },
          "xaxis": {
           "automargin": true,
           "gridcolor": "#EBF0F8",
           "linecolor": "#EBF0F8",
           "ticks": "",
           "title": {
            "standoff": 15
           },
           "zerolinecolor": "#EBF0F8",
           "zerolinewidth": 2
          },
          "yaxis": {
           "automargin": true,
           "gridcolor": "#EBF0F8",
           "linecolor": "#EBF0F8",
           "ticks": "",
           "title": {
            "standoff": 15
           },
           "zerolinecolor": "#EBF0F8",
           "zerolinewidth": 2
          }
         }
        },
        "title": {
         "text": "Total CHE Overtime"
        },
        "xaxis": {
         "autorange": true,
         "range": [
          2009.5,
          2021.5
         ],
         "ticktext": [
          2010,
          2011,
          2012,
          2013,
          2014,
          2015,
          2016,
          2017,
          2018,
          2019,
          2020,
          2021
         ],
         "tickvals": [
          2010,
          2011,
          2012,
          2013,
          2014,
          2015,
          2016,
          2017,
          2018,
          2019,
          2020,
          2021
         ],
         "title": {
          "text": "Year"
         },
         "type": "linear"
        },
        "yaxis": {
         "range": [
          100000,
          300000
         ],
         "title": {
          "text": "CHE per Capita"
         },
         "type": "linear"
        }
       }
      },
      "image/png": "[encoded data removed]",
      "text/html": [
       "<div>                            <div id=\"0332a6e5-9776-485a-ad91-aa12e0d5f92e\" class=\"plotly-graph-div\" style=\"height:525px; width:100%;\"></div>            <script type=\"text/javascript\">                require([\"plotly\"], function(Plotly) {                    window.PLOTLYENV=window.PLOTLYENV || {};                                    if (document.getElementById(\"0332a6e5-9776-485a-ad91-aa12e0d5f92e\")) {                    Plotly.newPlot(                        \"0332a6e5-9776-485a-ad91-aa12e0d5f92e\",                        [{\"marker\":{\"color\":\"skyblue\"},\"name\":\"Total CHE Overtime\",\"text\":[188810.0,207843.0,202508.0,209635.0,214655.0,194654.0,198532.0,208398.0,220154.0,220868.0,231589.0,260020.0],\"textposition\":\"auto\",\"x\":[2010,2011,2012,2013,2014,2015,2016,2017,2018,2019,2020,2021],\"y\":[188810.0,207843.0,202508.0,209635.0,214655.0,194654.0,198532.0,208398.0,220154.0,220868.0,231589.0,260020.0],\"type\":\"bar\"}],                        {\"template\":{\"data\":{\"barpolar\":[{\"marker\":{\"line\":{\"color\":\"white\",\"width\":0.5},\"pattern\":{\"fillmode\":\"overlay\",\"size\":10,\"solidity\":0.2}},\"type\":\"barpolar\"}],\"bar\":[{\"error_x\":{\"color\":\"#2a3f5f\"},\"error_y\":{\"color\":\"#2a3f5f\"},\"marker\":{\"line\":{\"color\":\"white\",\"width\":0.5},\"pattern\":{\"fillmode\":\"overlay\",\"size\":10,\"solidity\":0.2}},\"type\":\"bar\"}],\"carpet\":[{\"aaxis\":{\"endlinecolor\":\"#2a3f5f\",\"gridcolor\":\"#C8D4E3\",\"linecolor\":\"#C8D4E3\",\"minorgridcolor\":\"#C8D4E3\",\"startlinecolor\":\"#2a3f5f\"},\"baxis\":{\"endlinecolor\":\"#2a3f5f\",\"gridcolor\":\"#C8D4E3\",\"linecolor\":\"#C8D4E3\",\"minorgridcolor\":\"#C8D4E3\",\"startlinecolor\":\"#2a3f5f\"},\"type\":\"carpet\"}],\"choropleth\":[{\"colorbar\":{\"outlinewidth\":0,\"ticks\":\"\"},\"type\":\"choropleth\"}],\"contourcarpet\":[{\"colorbar\":{\"outlinewidth\":0,\"ticks\":\"\"},\"type\":\"contourcarpet\"}],\"contour\":[{\"colorbar\":{\"outlinewidth\":0,\"ticks\":\"\"},\"colorscale\":[[0.0,\"#0d0887\"],[0.1111111111111111,\"#46039f\"],[0.2222222222222222,\"#7201a8\"],[0.3333333333333333,\"#9c179e\"],[0.4444444444444444,\"#bd3786\"],[0.5555555555555556,\"#d8576b\"],[0.6666666666666666,\"#ed7953\"],[0.7777777777777778,\"#fb9f3a\"],[0.8888888888888888,\"#fdca26\"],[1.0,\"#f0f921\"]],\"type\":\"contour\"}],\"heatmapgl\":[{\"colorbar\":{\"outlinewidth\":0,\"ticks\":\"\"},\"colorscale\":[[0.0,\"#0d0887\"],[0.1111111111111111,\"#46039f\"],[0.2222222222222222,\"#7201a8\"],[0.3333333333333333,\"#9c179e\"],[0.4444444444444444,\"#bd3786\"],[0.5555555555555556,\"#d8576b\"],[0.6666666666666666,\"#ed7953\"],[0.7777777777777778,\"#fb9f3a\"],[0.8888888888888888,\"#fdca26\"],[1.0,\"#f0f921\"]],\"type\":\"heatmapgl\"}],\"heatmap\":[{\"colorbar\":{\"outlinewidth\":0,\"ticks\":\"\"},\"colorscale\":[[0.0,\"#0d0887\"],[0.1111111111111111,\"#46039f\"],[0.2222222222222222,\"#7201a8\"],[0.3333333333333333,\"#9c179e\"],[0.4444444444444444,\"#bd3786\"],[0.5555555555555556,\"#d8576b\"],[0.6666666666666666,\"#ed7953\"],[0.7777777777777778,\"#fb9f3a\"],[0.8888888888888888,\"#fdca26\"],[1.0,\"#f0f921\"]],\"type\":\"heatmap\"}],\"histogram2dcontour\":[{\"colorbar\":{\"outlinewidth\":0,\"ticks\":\"\"},\"colorscale\":[[0.0,\"#0d0887\"],[0.1111111111111111,\"#46039f\"],[0.2222222222222222,\"#7201a8\"],[0.3333333333333333,\"#9c179e\"],[0.4444444444444444,\"#bd3786\"],[0.5555555555555556,\"#d8576b\"],[0.6666666666666666,\"#ed7953\"],[0.7777777777777778,\"#fb9f3a\"],[0.8888888888888888,\"#fdca26\"],[1.0,\"#f0f921\"]],\"type\":\"histogram2dcontour\"}],\"histogram2d\":[{\"colorbar\":{\"outlinewidth\":0,\"ticks\":\"\"},\"colorscale\":[[0.0,\"#0d0887\"],[0.1111111111111111,\"#46039f\"],[0.2222222222222222,\"#7201a8\"],[0.3333333333333333,\"#9c179e\"],[0.4444444444444444,\"#bd3786\"],[0.5555555555555556,\"#d8576b\"],[0.6666666666666666,\"#ed7953\"],[0.7777777777777778,\"#fb9f3a\"],[0.8888888888888888,\"#fdca26\"],[1.0,\"#f0f921\"]],\"type\":\"histogram2d\"}],\"histogram\":[{\"marker\":{\"pattern\":{\"fillmode\":\"overlay\",\"size\":10,\"solidity\":0.2}},\"type\":\"histogram\"}],\"mesh3d\":[{\"colorbar\":{\"outlinewidth\":0,\"ticks\":\"\"},\"type\":\"mesh3d\"}],\"parcoords\":[{\"line\":{\"colorbar\":{\"outlinewidth\":0,\"ticks\":\"\"}},\"type\":\"parcoords\"}],\"pie\":[{\"automargin\":true,\"type\":\"pie\"}],\"scatter3d\":[{\"line\":{\"colorbar\":{\"outlinewidth\":0,\"ticks\":\"\"}},\"marker\":{\"colorbar\":{\"outlinewidth\":0,\"ticks\":\"\"}},\"type\":\"scatter3d\"}],\"scattercarpet\":[{\"marker\":{\"colorbar\":{\"outlinewidth\":0,\"ticks\":\"\"}},\"type\":\"scattercarpet\"}],\"scattergeo\":[{\"marker\":{\"colorbar\":{\"outlinewidth\":0,\"ticks\":\"\"}},\"type\":\"scattergeo\"}],\"scattergl\":[{\"marker\":{\"colorbar\":{\"outlinewidth\":0,\"ticks\":\"\"}},\"type\":\"scattergl\"}],\"scattermapbox\":[{\"marker\":{\"colorbar\":{\"outlinewidth\":0,\"ticks\":\"\"}},\"type\":\"scattermapbox\"}],\"scatterpolargl\":[{\"marker\":{\"colorbar\":{\"outlinewidth\":0,\"ticks\":\"\"}},\"type\":\"scatterpolargl\"}],\"scatterpolar\":[{\"marker\":{\"colorbar\":{\"outlinewidth\":0,\"ticks\":\"\"}},\"type\":\"scatterpolar\"}],\"scatter\":[{\"fillpattern\":{\"fillmode\":\"overlay\",\"size\":10,\"solidity\":0.2},\"type\":\"scatter\"}],\"scatterternary\":[{\"marker\":{\"colorbar\":{\"outlinewidth\":0,\"ticks\":\"\"}},\"type\":\"scatterternary\"}],\"surface\":[{\"colorbar\":{\"outlinewidth\":0,\"ticks\":\"\"},\"colorscale\":[[0.0,\"#0d0887\"],[0.1111111111111111,\"#46039f\"],[0.2222222222222222,\"#7201a8\"],[0.3333333333333333,\"#9c179e\"],[0.4444444444444444,\"#bd3786\"],[0.5555555555555556,\"#d8576b\"],[0.6666666666666666,\"#ed7953\"],[0.7777777777777778,\"#fb9f3a\"],[0.8888888888888888,\"#fdca26\"],[1.0,\"#f0f921\"]],\"type\":\"surface\"}],\"table\":[{\"cells\":{\"fill\":{\"color\":\"#EBF0F8\"},\"line\":{\"color\":\"white\"}},\"header\":{\"fill\":{\"color\":\"#C8D4E3\"},\"line\":{\"color\":\"white\"}},\"type\":\"table\"}]},\"layout\":{\"annotationdefaults\":{\"arrowcolor\":\"#2a3f5f\",\"arrowhead\":0,\"arrowwidth\":1},\"autotypenumbers\":\"strict\",\"coloraxis\":{\"colorbar\":{\"outlinewidth\":0,\"ticks\":\"\"}},\"colorscale\":{\"diverging\":[[0,\"#8e0152\"],[0.1,\"#c51b7d\"],[0.2,\"#de77ae\"],[0.3,\"#f1b6da\"],[0.4,\"#fde0ef\"],[0.5,\"#f7f7f7\"],[0.6,\"#e6f5d0\"],[0.7,\"#b8e186\"],[0.8,\"#7fbc41\"],[0.9,\"#4d9221\"],[1,\"#276419\"]],\"sequential\":[[0.0,\"#0d0887\"],[0.1111111111111111,\"#46039f\"],[0.2222222222222222,\"#7201a8\"],[0.3333333333333333,\"#9c179e\"],[0.4444444444444444,\"#bd3786\"],[0.5555555555555556,\"#d8576b\"],[0.6666666666666666,\"#ed7953\"],[0.7777777777777778,\"#fb9f3a\"],[0.8888888888888888,\"#fdca26\"],[1.0,\"#f0f921\"]],\"sequentialminus\":[[0.0,\"#0d0887\"],[0.1111111111111111,\"#46039f\"],[0.2222222222222222,\"#7201a8\"],[0.3333333333333333,\"#9c179e\"],[0.4444444444444444,\"#bd3786\"],[0.5555555555555556,\"#d8576b\"],[0.6666666666666666,\"#ed7953\"],[0.7777777777777778,\"#fb9f3a\"],[0.8888888888888888,\"#fdca26\"],[1.0,\"#f0f921\"]]},\"colorway\":[\"#636efa\",\"#EF553B\",\"#00cc96\",\"#ab63fa\",\"#FFA15A\",\"#19d3f3\",\"#FF6692\",\"#B6E880\",\"#FF97FF\",\"#FECB52\"],\"font\":{\"color\":\"#2a3f5f\"},\"geo\":{\"bgcolor\":\"white\",\"lakecolor\":\"white\",\"landcolor\":\"white\",\"showlakes\":true,\"showland\":true,\"subunitcolor\":\"#C8D4E3\"},\"hoverlabel\":{\"align\":\"left\"},\"hovermode\":\"closest\",\"mapbox\":{\"style\":\"light\"},\"paper_bgcolor\":\"white\",\"plot_bgcolor\":\"white\",\"polar\":{\"angularaxis\":{\"gridcolor\":\"#EBF0F8\",\"linecolor\":\"#EBF0F8\",\"ticks\":\"\"},\"bgcolor\":\"white\",\"radialaxis\":{\"gridcolor\":\"#EBF0F8\",\"linecolor\":\"#EBF0F8\",\"ticks\":\"\"}},\"scene\":{\"xaxis\":{\"backgroundcolor\":\"white\",\"gridcolor\":\"#DFE8F3\",\"gridwidth\":2,\"linecolor\":\"#EBF0F8\",\"showbackground\":true,\"ticks\":\"\",\"zerolinecolor\":\"#EBF0F8\"},\"yaxis\":{\"backgroundcolor\":\"white\",\"gridcolor\":\"#DFE8F3\",\"gridwidth\":2,\"linecolor\":\"#EBF0F8\",\"showbackground\":true,\"ticks\":\"\",\"zerolinecolor\":\"#EBF0F8\"},\"zaxis\":{\"backgroundcolor\":\"white\",\"gridcolor\":\"#DFE8F3\",\"gridwidth\":2,\"linecolor\":\"#EBF0F8\",\"showbackground\":true,\"ticks\":\"\",\"zerolinecolor\":\"#EBF0F8\"}},\"shapedefaults\":{\"line\":{\"color\":\"#2a3f5f\"}},\"ternary\":{\"aaxis\":{\"gridcolor\":\"#DFE8F3\",\"linecolor\":\"#A2B1C6\",\"ticks\":\"\"},\"baxis\":{\"gridcolor\":\"#DFE8F3\",\"linecolor\":\"#A2B1C6\",\"ticks\":\"\"},\"bgcolor\":\"white\",\"caxis\":{\"gridcolor\":\"#DFE8F3\",\"linecolor\":\"#A2B1C6\",\"ticks\":\"\"}},\"title\":{\"x\":0.05},\"xaxis\":{\"automargin\":true,\"gridcolor\":\"#EBF0F8\",\"linecolor\":\"#EBF0F8\",\"ticks\":\"\",\"title\":{\"standoff\":15},\"zerolinecolor\":\"#EBF0F8\",\"zerolinewidth\":2},\"yaxis\":{\"automargin\":true,\"gridcolor\":\"#EBF0F8\",\"linecolor\":\"#EBF0F8\",\"ticks\":\"\",\"title\":{\"standoff\":15},\"zerolinecolor\":\"#EBF0F8\",\"zerolinewidth\":2}}},\"yaxis\":{\"title\":{\"text\":\"CHE per Capita\"},\"range\":[100000,300000]},\"xaxis\":{\"title\":{\"text\":\"Year\"},\"tickvals\":[2010,2011,2012,2013,2014,2015,2016,2017,2018,2019,2020,2021],\"ticktext\":[2010,2011,2012,2013,2014,2015,2016,2017,2018,2019,2020,2021]},\"title\":{\"text\":\"Total CHE Overtime\"},\"barmode\":\"group\"},                        {\"responsive\": true}                    ).then(function(){\n",
       "                            \n",
       "var gd = document.getElementById('0332a6e5-9776-485a-ad91-aa12e0d5f92e');\n",
       "var x = new MutationObserver(function (mutations, observer) {{\n",
       "        var display = window.getComputedStyle(gd).display;\n",
       "        if (!display || display === 'none') {{\n",
       "            console.log([gd, 'removed!']);\n",
       "            Plotly.purge(gd);\n",
       "            observer.disconnect();\n",
       "        }}\n",
       "}});\n",
       "\n",
       "// Listen for the removal of the full notebook cells\n",
       "var notebookContainer = gd.closest('#notebook-container');\n",
       "if (notebookContainer) {{\n",
       "    x.observe(notebookContainer, {childList: true});\n",
       "}}\n",
       "\n",
       "// Listen for the clearing of the current output cell\n",
       "var outputEl = gd.closest('.output');\n",
       "if (outputEl) {{\n",
       "    x.observe(outputEl, {childList: true});\n",
       "}}\n",
       "\n",
       "                        })                };                });            </script>        </div>"
      ]
     },
     "metadata": {},
     "output_type": "display_data"
    }
   ],
   "source": [
    "fig = go.Figure()\n",
    "\n",
    "# Add bar trace for CHE\n",
    "fig.add_trace(go.Bar(\n",
    "    x=pivot_total_che['Year'],\n",
    "    y=pivot_total_che['CHE per Capita'],\n",
    "    name='Total CHE Overtime',\n",
    "    marker_color='skyblue',\n",
    "    text=pivot_total_che['CHE per Capita'],  # Add data labels for CHE\n",
    "    textposition='auto'  # Automatically position the text\n",
    "))\n",
    "# Update layout for better visualization\n",
    "fig.update_layout(\n",
    "    title='Total CHE Overtime',\n",
    "    xaxis_title='Year',\n",
    "    yaxis_title='CHE per Capita',\n",
    "    barmode='group',  # Group bars together\n",
    "    yaxis=dict(range=[100000, 300000]),\n",
    "    template='plotly_white',  # Optional: change the template for styling\n",
    "    xaxis=dict(\n",
    "        tickvals=pivot_total_hle['Year'],  # Set tick positions to correspond to each country\n",
    "        ticktext=pivot_total_hle['Year'])   # Use country names as tick labels\n",
    ")\n",
    "\n",
    "# Show the plot\n",
    "fig.show()"
   ]
  },
  {
   "cell_type": "markdown",
   "id": "b62bc47c-9bb7-49b2-9b3e-64e8fc6b9404",
   "metadata": {},
   "source": [
    "## Top CHE Countries"
   ]
  },
  {
   "cell_type": "code",
   "execution_count": 1057,
   "id": "4a925b9a-d070-4d52-a597-f92c4e2dd7d5",
   "metadata": {},
   "outputs": [],
   "source": [
    "# analyzing top CHE countries\n",
    "top_countries_che = combined_df.groupby('Country')['CHE per Capita'].sum().nlargest(10).index"
   ]
  },
  {
   "cell_type": "code",
   "execution_count": 1058,
   "id": "d421a08a-a16b-43b0-a335-1400abf22cc0",
   "metadata": {},
   "outputs": [
    {
     "name": "stdout",
     "output_type": "stream",
     "text": [
      "Index(['United States of America', 'Switzerland', 'Norway', 'Monaco',\n",
      "       'Luxembourg', 'Denmark', 'Sweden', 'Australia',\n",
      "       'Netherlands (Kingdom of the)', 'Ireland'],\n",
      "      dtype='object', name='Country')\n"
     ]
    }
   ],
   "source": [
    "print(top_countries_che)"
   ]
  },
  {
   "cell_type": "code",
   "execution_count": 1059,
   "id": "125a1ff9-b7ef-488f-a856-a3aca4928f71",
   "metadata": {},
   "outputs": [],
   "source": [
    "df_cle_top = combined_df[combined_df['Country'].isin(top_countries_che)]"
   ]
  },
  {
   "cell_type": "code",
   "execution_count": 1060,
   "id": "e5b06323-ec7d-4aa6-8507-d6a0ddbb5e59",
   "metadata": {},
   "outputs": [],
   "source": [
    "pivot_che_df = df_cle_top.pivot(index='Year', columns='Country', values='CHE per Capita')"
   ]
  },
  {
   "cell_type": "code",
   "execution_count": 1123,
   "id": "464d6e60-fbcc-41a5-9a3f-97817f8bbc6f",
   "metadata": {},
   "outputs": [
    {
     "name": "stderr",
     "output_type": "stream",
     "text": [
      "/var/folders/4x/r11_vgpj4glbxvp5rrk49znc0000gn/T/ipykernel_4967/638035257.py:4: MatplotlibDeprecationWarning: The get_cmap function was deprecated in Matplotlib 3.7 and will be removed in 3.11. Use ``matplotlib.colormaps[name]`` or ``matplotlib.colormaps.get_cmap()`` or ``pyplot.get_cmap()`` instead.\n",
      "  cmap = cm.get_cmap('tab10', len(pivot_che_df.columns))  # 'tab10' is a color palette with distinct colors\n"
     ]
    },
    {
     "data": {
      "image/png": "[encoded data removed]",
      "text/plain": [
       "<Figure size 1200x800 with 1 Axes>"
      ]
     },
     "metadata": {},
     "output_type": "display_data"
    }
   ],
   "source": [
    "plt.figure(figsize=(12, 8))\n",
    "\n",
    "# Get a colormap and set the number of colors to match the number of countries\n",
    "cmap = cm.get_cmap('tab10', len(pivot_che_df.columns))  # 'tab10' is a color palette with distinct colors\n",
    "\n",
    "# Plot each country with a unique color\n",
    "for i, country in enumerate(pivot_che_df.columns):\n",
    "    plt.plot(pivot_che_df.index, pivot_che_df[country], marker='o', label=country, color=cmap(i))\n",
    "\n",
    "# Title and Axis Labels\n",
    "plt.title('Top 10 Countries by CHE Over Time', fontsize=16)\n",
    "plt.xlabel('Year', fontsize=14)\n",
    "plt.ylabel('CHE per Capita', fontsize=14)\n",
    "\n",
    "# Legend outside of the plot for clarity\n",
    "plt.legend(title='Country', bbox_to_anchor=(1.05, 1), loc='upper left', fontsize=10)\n",
    "\n",
    "# Add grid for readability\n",
    "plt.grid(visible=True, linestyle='--', linewidth=0.5)\n",
    "\n",
    "# Adjust layout to prevent overlap\n",
    "plt.tight_layout()\n",
    "\n",
    "# Show the plot\n",
    "plt.show()"
   ]
  },
  {
   "cell_type": "code",
   "execution_count": 1244,
   "id": "0173348d-049a-4b0a-972b-044d414bf320",
   "metadata": {},
   "outputs": [
    {
     "name": "stdout",
     "output_type": "stream",
     "text": [
      "Continent   Africa  Americas  Eastern Mediterranean     Europe  \\\n",
      "Year                                                             \n",
      "2010       5164.52  28941.70                8485.37  122378.38   \n",
      "2011       5718.60  30975.28                9319.40  133948.87   \n",
      "2012       5806.49  32144.85                9507.90  126773.91   \n",
      "2013       5955.21  33157.47               10002.26  132430.01   \n",
      "2014       6083.78  33684.36               10648.77  135072.59   \n",
      "2015       5456.62  33736.86               10542.81  117632.60   \n",
      "2016       5418.04  34117.23               10401.70  119621.43   \n",
      "2017       5789.67  36154.44               10432.02  125471.70   \n",
      "2018       6004.96  36983.20               10982.19  134646.96   \n",
      "2019       5859.15  37537.18               11114.22  134182.35   \n",
      "2020       5730.16  38665.95               11234.11  142542.65   \n",
      "2021       6243.55  40485.57               11735.41  163224.70   \n",
      "\n",
      "Continent  South-East Asia  Western Pacific  \n",
      "Year                                         \n",
      "2010               1209.80         22630.35  \n",
      "2011               1278.75         26602.18  \n",
      "2012               1364.47         26910.75  \n",
      "2013               1461.56         26628.79  \n",
      "2014               1517.15         27648.21  \n",
      "2015               1687.05         25597.64  \n",
      "2016               1876.41         27097.08  \n",
      "2017               1836.15         28714.21  \n",
      "2018               1745.78         29790.43  \n",
      "2019               1838.10         30336.68  \n",
      "2020               1921.44         31495.18  \n",
      "2021               2247.80         36082.77  \n"
     ]
    }
   ],
   "source": [
    "# top continents CHE overtime\n",
    "pivot_continents_che = combined_df.pivot_table(index='Year', columns='Continent', values='CHE per Capita', aggfunc='sum', fill_value=0)\n",
    "print(pivot_continents_che)"
   ]
  },
  {
   "cell_type": "code",
   "execution_count": 1254,
   "id": "b0c77adf-b3be-4d5d-832b-08d965917cfd",
   "metadata": {},
   "outputs": [
    {
     "data": {
      "image/png": "[encoded data removed]",
      "text/plain": [
       "<Figure size 1000x600 with 1 Axes>"
      ]
     },
     "metadata": {},
     "output_type": "display_data"
    }
   ],
   "source": [
    "# Plotting the pivot table as a stacked bar chart\n",
    "pivot_continents_che.plot(kind='bar', stacked=True, figsize=(10, 6))\n",
    "\n",
    "# Title and labels\n",
    "plt.title('Current Health Expenditure (CHE) by Continent', fontsize=16)\n",
    "plt.xlabel('Year', fontsize=12)\n",
    "plt.ylabel('CHE per Capita', fontsize=12)\n",
    "plt.xticks(rotation=45)  # Rotate x-axis labels for better readability\n",
    "\n",
    "# Place the legend outside the graph\n",
    "plt.legend(title='Continent', bbox_to_anchor=(1.05, 1), loc='upper left')  \n",
    "\n",
    "# Show the plot\n",
    "plt.tight_layout()\n",
    "# plt.legend(title='Continent')  # Add legend\n",
    "plt.show()"
   ]
  },
  {
   "cell_type": "markdown",
   "id": "ceb69b5f-fbb4-47a7-9804-852307e66602",
   "metadata": {},
   "source": [
    "### HLE Overtime"
   ]
  },
  {
   "cell_type": "code",
   "execution_count": 1155,
   "id": "959ede94-c193-46e6-9b84-5e9c7f243856",
   "metadata": {},
   "outputs": [
    {
     "name": "stdout",
     "output_type": "stream",
     "text": [
      "Pivoted DataFrame:\n",
      "     Year  Avg HLE\n",
      "0   2010     61.0\n",
      "1   2011     62.0\n",
      "2   2012     62.0\n",
      "3   2013     62.0\n",
      "4   2014     62.0\n",
      "5   2015     62.0\n",
      "6   2016     63.0\n",
      "7   2017     63.0\n",
      "8   2018     63.0\n",
      "9   2019     63.0\n",
      "10  2020     63.0\n",
      "11  2021     62.0\n"
     ]
    }
   ],
   "source": [
    "# AVG HLE overtime \n",
    "pivot_total_hle = combined_df.pivot_table(index='Year', values='Avg HLE', aggfunc='mean').round().reset_index()\n",
    "print(\"Pivoted DataFrame:\\n\", pivot_total_hle)"
   ]
  },
  {
   "cell_type": "code",
   "execution_count": 1193,
   "id": "d319bdc9-cb0e-4edd-a93f-8468639ffe5d",
   "metadata": {},
   "outputs": [
    {
     "data": {
      "application/vnd.plotly.v1+json": {
       "config": {
        "plotlyServerURL": "https://plot.ly"
       },
       "data": [
        {
         "marker": {
          "color": "orange"
         },
         "name": "Avg HLE",
         "text": [
          61,
          62,
          62,
          62,
          62,
          62,
          63,
          63,
          63,
          63,
          63,
          62
         ],
         "textposition": "auto",
         "type": "bar",
         "x": [
          2010,
          2011,
          2012,
          2013,
          2014,
          2015,
          2016,
          2017,
          2018,
          2019,
          2020,
          2021
         ],
         "y": [
          61,
          62,
          62,
          62,
          62,
          62,
          63,
          63,
          63,
          63,
          63,
          62
         ]
        }
       ],
       "layout": {
        "autosize": true,
        "barmode": "group",
        "template": {
         "data": {
          "bar": [
           {
            "error_x": {
             "color": "#2a3f5f"
            },
            "error_y": {
             "color": "#2a3f5f"
            },
            "marker": {
             "line": {
              "color": "white",
              "width": 0.5
             },
             "pattern": {
              "fillmode": "overlay",
              "size": 10,
              "solidity": 0.2
             }
            },
            "type": "bar"
           }
          ],
          "barpolar": [
           {
            "marker": {
             "line": {
              "color": "white",
              "width": 0.5
             },
             "pattern": {
              "fillmode": "overlay",
              "size": 10,
              "solidity": 0.2
             }
            },
            "type": "barpolar"
           }
          ],
          "carpet": [
           {
            "aaxis": {
             "endlinecolor": "#2a3f5f",
             "gridcolor": "#C8D4E3",
             "linecolor": "#C8D4E3",
             "minorgridcolor": "#C8D4E3",
             "startlinecolor": "#2a3f5f"
            },
            "baxis": {
             "endlinecolor": "#2a3f5f",
             "gridcolor": "#C8D4E3",
             "linecolor": "#C8D4E3",
             "minorgridcolor": "#C8D4E3",
             "startlinecolor": "#2a3f5f"
            },
            "type": "carpet"
           }
          ],
          "choropleth": [
           {
            "colorbar": {
             "outlinewidth": 0,
             "ticks": ""
            },
            "type": "choropleth"
           }
          ],
          "contour": [
           {
            "colorbar": {
             "outlinewidth": 0,
             "ticks": ""
            },
            "colorscale": [
             [
              0,
              "#0d0887"
             ],
             [
              0.1111111111111111,
              "#46039f"
             ],
             [
              0.2222222222222222,
              "#7201a8"
             ],
             [
              0.3333333333333333,
              "#9c179e"
             ],
             [
              0.4444444444444444,
              "#bd3786"
             ],
             [
              0.5555555555555556,
              "#d8576b"
             ],
             [
              0.6666666666666666,
              "#ed7953"
             ],
             [
              0.7777777777777778,
              "#fb9f3a"
             ],
             [
              0.8888888888888888,
              "#fdca26"
             ],
             [
              1,
              "#f0f921"
             ]
            ],
            "type": "contour"
           }
          ],
          "contourcarpet": [
           {
            "colorbar": {
             "outlinewidth": 0,
             "ticks": ""
            },
            "type": "contourcarpet"
           }
          ],
          "heatmap": [
           {
            "colorbar": {
             "outlinewidth": 0,
             "ticks": ""
            },
            "colorscale": [
             [
              0,
              "#0d0887"
             ],
             [
              0.1111111111111111,
              "#46039f"
             ],
             [
              0.2222222222222222,
              "#7201a8"
             ],
             [
              0.3333333333333333,
              "#9c179e"
             ],
             [
              0.4444444444444444,
              "#bd3786"
             ],
             [
              0.5555555555555556,
              "#d8576b"
             ],
             [
              0.6666666666666666,
              "#ed7953"
             ],
             [
              0.7777777777777778,
              "#fb9f3a"
             ],
             [
              0.8888888888888888,
              "#fdca26"
             ],
             [
              1,
              "#f0f921"
             ]
            ],
            "type": "heatmap"
           }
          ],
          "heatmapgl": [
           {
            "colorbar": {
             "outlinewidth": 0,
             "ticks": ""
            },
            "colorscale": [
             [
              0,
              "#0d0887"
             ],
             [
              0.1111111111111111,
              "#46039f"
             ],
             [
              0.2222222222222222,
              "#7201a8"
             ],
             [
              0.3333333333333333,
              "#9c179e"
             ],
             [
              0.4444444444444444,
              "#bd3786"
             ],
             [
              0.5555555555555556,
              "#d8576b"
             ],
             [
              0.6666666666666666,
              "#ed7953"
             ],
             [
              0.7777777777777778,
              "#fb9f3a"
             ],
             [
              0.8888888888888888,
              "#fdca26"
             ],
             [
              1,
              "#f0f921"
             ]
            ],
            "type": "heatmapgl"
           }
          ],
          "histogram": [
           {
            "marker": {
             "pattern": {
              "fillmode": "overlay",
              "size": 10,
              "solidity": 0.2
             }
            },
            "type": "histogram"
           }
          ],
          "histogram2d": [
           {
            "colorbar": {
             "outlinewidth": 0,
             "ticks": ""
            },
            "colorscale": [
             [
              0,
              "#0d0887"
             ],
             [
              0.1111111111111111,
              "#46039f"
             ],
             [
              0.2222222222222222,
              "#7201a8"
             ],
             [
              0.3333333333333333,
              "#9c179e"
             ],
             [
              0.4444444444444444,
              "#bd3786"
             ],
             [
              0.5555555555555556,
              "#d8576b"
             ],
             [
              0.6666666666666666,
              "#ed7953"
             ],
             [
              0.7777777777777778,
              "#fb9f3a"
             ],
             [
              0.8888888888888888,
              "#fdca26"
             ],
             [
              1,
              "#f0f921"
             ]
            ],
            "type": "histogram2d"
           }
          ],
          "histogram2dcontour": [
           {
            "colorbar": {
             "outlinewidth": 0,
             "ticks": ""
            },
            "colorscale": [
             [
              0,
              "#0d0887"
             ],
             [
              0.1111111111111111,
              "#46039f"
             ],
             [
              0.2222222222222222,
              "#7201a8"
             ],
             [
              0.3333333333333333,
              "#9c179e"
             ],
             [
              0.4444444444444444,
              "#bd3786"
             ],
             [
              0.5555555555555556,
              "#d8576b"
             ],
             [
              0.6666666666666666,
              "#ed7953"
             ],
             [
              0.7777777777777778,
              "#fb9f3a"
             ],
             [
              0.8888888888888888,
              "#fdca26"
             ],
             [
              1,
              "#f0f921"
             ]
            ],
            "type": "histogram2dcontour"
           }
          ],
          "mesh3d": [
           {
            "colorbar": {
             "outlinewidth": 0,
             "ticks": ""
            },
            "type": "mesh3d"
           }
          ],
          "parcoords": [
           {
            "line": {
             "colorbar": {
              "outlinewidth": 0,
              "ticks": ""
             }
            },
            "type": "parcoords"
           }
          ],
          "pie": [
           {
            "automargin": true,
            "type": "pie"
           }
          ],
          "scatter": [
           {
            "fillpattern": {
             "fillmode": "overlay",
             "size": 10,
             "solidity": 0.2
            },
            "type": "scatter"
           }
          ],
          "scatter3d": [
           {
            "line": {
             "colorbar": {
              "outlinewidth": 0,
              "ticks": ""
             }
            },
            "marker": {
             "colorbar": {
              "outlinewidth": 0,
              "ticks": ""
             }
            },
            "type": "scatter3d"
           }
          ],
          "scattercarpet": [
           {
            "marker": {
             "colorbar": {
              "outlinewidth": 0,
              "ticks": ""
             }
            },
            "type": "scattercarpet"
           }
          ],
          "scattergeo": [
           {
            "marker": {
             "colorbar": {
              "outlinewidth": 0,
              "ticks": ""
             }
            },
            "type": "scattergeo"
           }
          ],
          "scattergl": [
           {
            "marker": {
             "colorbar": {
              "outlinewidth": 0,
              "ticks": ""
             }
            },
            "type": "scattergl"
           }
          ],
          "scattermapbox": [
           {
            "marker": {
             "colorbar": {
              "outlinewidth": 0,
              "ticks": ""
             }
            },
            "type": "scattermapbox"
           }
          ],
          "scatterpolar": [
           {
            "marker": {
             "colorbar": {
              "outlinewidth": 0,
              "ticks": ""
             }
            },
            "type": "scatterpolar"
           }
          ],
          "scatterpolargl": [
           {
            "marker": {
             "colorbar": {
              "outlinewidth": 0,
              "ticks": ""
             }
            },
            "type": "scatterpolargl"
           }
          ],
          "scatterternary": [
           {
            "marker": {
             "colorbar": {
              "outlinewidth": 0,
              "ticks": ""
             }
            },
            "type": "scatterternary"
           }
          ],
          "surface": [
           {
            "colorbar": {
             "outlinewidth": 0,
             "ticks": ""
            },
            "colorscale": [
             [
              0,
              "#0d0887"
             ],
             [
              0.1111111111111111,
              "#46039f"
             ],
             [
              0.2222222222222222,
              "#7201a8"
             ],
             [
              0.3333333333333333,
              "#9c179e"
             ],
             [
              0.4444444444444444,
              "#bd3786"
             ],
             [
              0.5555555555555556,
              "#d8576b"
             ],
             [
              0.6666666666666666,
              "#ed7953"
             ],
             [
              0.7777777777777778,
              "#fb9f3a"
             ],
             [
              0.8888888888888888,
              "#fdca26"
             ],
             [
              1,
              "#f0f921"
             ]
            ],
            "type": "surface"
           }
          ],
          "table": [
           {
            "cells": {
             "fill": {
              "color": "#EBF0F8"
             },
             "line": {
              "color": "white"
             }
            },
            "header": {
             "fill": {
              "color": "#C8D4E3"
             },
             "line": {
              "color": "white"
             }
            },
            "type": "table"
           }
          ]
         },
         "layout": {
          "annotationdefaults": {
           "arrowcolor": "#2a3f5f",
           "arrowhead": 0,
           "arrowwidth": 1
          },
          "autotypenumbers": "strict",
          "coloraxis": {
           "colorbar": {
            "outlinewidth": 0,
            "ticks": ""
           }
          },
          "colorscale": {
           "diverging": [
            [
             0,
             "#8e0152"
            ],
            [
             0.1,
             "#c51b7d"
            ],
            [
             0.2,
             "#de77ae"
            ],
            [
             0.3,
             "#f1b6da"
            ],
            [
             0.4,
             "#fde0ef"
            ],
            [
             0.5,
             "#f7f7f7"
            ],
            [
             0.6,
             "#e6f5d0"
            ],
            [
             0.7,
             "#b8e186"
            ],
            [
             0.8,
             "#7fbc41"
            ],
            [
             0.9,
             "#4d9221"
            ],
            [
             1,
             "#276419"
            ]
           ],
           "sequential": [
            [
             0,
             "#0d0887"
            ],
            [
             0.1111111111111111,
             "#46039f"
            ],
            [
             0.2222222222222222,
             "#7201a8"
            ],
            [
             0.3333333333333333,
             "#9c179e"
            ],
            [
             0.4444444444444444,
             "#bd3786"
            ],
            [
             0.5555555555555556,
             "#d8576b"
            ],
            [
             0.6666666666666666,
             "#ed7953"
            ],
            [
             0.7777777777777778,
             "#fb9f3a"
            ],
            [
             0.8888888888888888,
             "#fdca26"
            ],
            [
             1,
             "#f0f921"
            ]
           ],
           "sequentialminus": [
            [
             0,
             "#0d0887"
            ],
            [
             0.1111111111111111,
             "#46039f"
            ],
            [
             0.2222222222222222,
             "#7201a8"
            ],
            [
             0.3333333333333333,
             "#9c179e"
            ],
            [
             0.4444444444444444,
             "#bd3786"
            ],
            [
             0.5555555555555556,
             "#d8576b"
            ],
            [
             0.6666666666666666,
             "#ed7953"
            ],
            [
             0.7777777777777778,
             "#fb9f3a"
            ],
            [
             0.8888888888888888,
             "#fdca26"
            ],
            [
             1,
             "#f0f921"
            ]
           ]
          },
          "colorway": [
           "#636efa",
           "#EF553B",
           "#00cc96",
           "#ab63fa",
           "#FFA15A",
           "#19d3f3",
           "#FF6692",
           "#B6E880",
           "#FF97FF",
           "#FECB52"
          ],
          "font": {
           "color": "#2a3f5f"
          },
          "geo": {
           "bgcolor": "white",
           "lakecolor": "white",
           "landcolor": "white",
           "showlakes": true,
           "showland": true,
           "subunitcolor": "#C8D4E3"
          },
          "hoverlabel": {
           "align": "left"
          },
          "hovermode": "closest",
          "mapbox": {
           "style": "light"
          },
          "paper_bgcolor": "white",
          "plot_bgcolor": "white",
          "polar": {
           "angularaxis": {
            "gridcolor": "#EBF0F8",
            "linecolor": "#EBF0F8",
            "ticks": ""
           },
           "bgcolor": "white",
           "radialaxis": {
            "gridcolor": "#EBF0F8",
            "linecolor": "#EBF0F8",
            "ticks": ""
           }
          },
          "scene": {
           "xaxis": {
            "backgroundcolor": "white",
            "gridcolor": "#DFE8F3",
            "gridwidth": 2,
            "linecolor": "#EBF0F8",
            "showbackground": true,
            "ticks": "",
            "zerolinecolor": "#EBF0F8"
           },
           "yaxis": {
            "backgroundcolor": "white",
            "gridcolor": "#DFE8F3",
            "gridwidth": 2,
            "linecolor": "#EBF0F8",
            "showbackground": true,
            "ticks": "",
            "zerolinecolor": "#EBF0F8"
           },
           "zaxis": {
            "backgroundcolor": "white",
            "gridcolor": "#DFE8F3",
            "gridwidth": 2,
            "linecolor": "#EBF0F8",
            "showbackground": true,
            "ticks": "",
            "zerolinecolor": "#EBF0F8"
           }
          },
          "shapedefaults": {
           "line": {
            "color": "#2a3f5f"
           }
          },
          "ternary": {
           "aaxis": {
            "gridcolor": "#DFE8F3",
            "linecolor": "#A2B1C6",
            "ticks": ""
           },
           "baxis": {
            "gridcolor": "#DFE8F3",
            "linecolor": "#A2B1C6",
            "ticks": ""
           },
           "bgcolor": "white",
           "caxis": {
            "gridcolor": "#DFE8F3",
            "linecolor": "#A2B1C6",
            "ticks": ""
           }
          },
          "title": {
           "x": 0.05
          },
          "xaxis": {
           "automargin": true,
           "gridcolor": "#EBF0F8",
           "linecolor": "#EBF0F8",
           "ticks": "",
           "title": {
            "standoff": 15
           },
           "zerolinecolor": "#EBF0F8",
           "zerolinewidth": 2
          },
          "yaxis": {
           "automargin": true,
           "gridcolor": "#EBF0F8",
           "linecolor": "#EBF0F8",
           "ticks": "",
           "title": {
            "standoff": 15
           },
           "zerolinecolor": "#EBF0F8",
           "zerolinewidth": 2
          }
         }
        },
        "title": {
         "text": "Avg HLE Overtime"
        },
        "xaxis": {
         "autorange": true,
         "range": [
          2009.5,
          2021.5
         ],
         "ticktext": [
          2010,
          2011,
          2012,
          2013,
          2014,
          2015,
          2016,
          2017,
          2018,
          2019,
          2020,
          2021
         ],
         "tickvals": [
          2010,
          2011,
          2012,
          2013,
          2014,
          2015,
          2016,
          2017,
          2018,
          2019,
          2020,
          2021
         ],
         "title": {
          "text": "Year"
         },
         "type": "linear"
        },
        "yaxis": {
         "range": [
          0,
          100
         ],
         "title": {
          "text": "Avg HLE"
         },
         "type": "linear"
        }
       }
      },
      "image/png": "[encoded data removed]",
      "text/html": [
       "<div>                            <div id=\"7c8266b2-198c-4689-80e1-419c70b8ff94\" class=\"plotly-graph-div\" style=\"height:525px; width:100%;\"></div>            <script type=\"text/javascript\">                require([\"plotly\"], function(Plotly) {                    window.PLOTLYENV=window.PLOTLYENV || {};                                    if (document.getElementById(\"7c8266b2-198c-4689-80e1-419c70b8ff94\")) {                    Plotly.newPlot(                        \"7c8266b2-198c-4689-80e1-419c70b8ff94\",                        [{\"marker\":{\"color\":\"orange\"},\"name\":\"Avg HLE\",\"text\":[61.0,62.0,62.0,62.0,62.0,62.0,63.0,63.0,63.0,63.0,63.0,62.0],\"textposition\":\"auto\",\"x\":[2010,2011,2012,2013,2014,2015,2016,2017,2018,2019,2020,2021],\"y\":[61.0,62.0,62.0,62.0,62.0,62.0,63.0,63.0,63.0,63.0,63.0,62.0],\"type\":\"bar\"}],                        {\"template\":{\"data\":{\"barpolar\":[{\"marker\":{\"line\":{\"color\":\"white\",\"width\":0.5},\"pattern\":{\"fillmode\":\"overlay\",\"size\":10,\"solidity\":0.2}},\"type\":\"barpolar\"}],\"bar\":[{\"error_x\":{\"color\":\"#2a3f5f\"},\"error_y\":{\"color\":\"#2a3f5f\"},\"marker\":{\"line\":{\"color\":\"white\",\"width\":0.5},\"pattern\":{\"fillmode\":\"overlay\",\"size\":10,\"solidity\":0.2}},\"type\":\"bar\"}],\"carpet\":[{\"aaxis\":{\"endlinecolor\":\"#2a3f5f\",\"gridcolor\":\"#C8D4E3\",\"linecolor\":\"#C8D4E3\",\"minorgridcolor\":\"#C8D4E3\",\"startlinecolor\":\"#2a3f5f\"},\"baxis\":{\"endlinecolor\":\"#2a3f5f\",\"gridcolor\":\"#C8D4E3\",\"linecolor\":\"#C8D4E3\",\"minorgridcolor\":\"#C8D4E3\",\"startlinecolor\":\"#2a3f5f\"},\"type\":\"carpet\"}],\"choropleth\":[{\"colorbar\":{\"outlinewidth\":0,\"ticks\":\"\"},\"type\":\"choropleth\"}],\"contourcarpet\":[{\"colorbar\":{\"outlinewidth\":0,\"ticks\":\"\"},\"type\":\"contourcarpet\"}],\"contour\":[{\"colorbar\":{\"outlinewidth\":0,\"ticks\":\"\"},\"colorscale\":[[0.0,\"#0d0887\"],[0.1111111111111111,\"#46039f\"],[0.2222222222222222,\"#7201a8\"],[0.3333333333333333,\"#9c179e\"],[0.4444444444444444,\"#bd3786\"],[0.5555555555555556,\"#d8576b\"],[0.6666666666666666,\"#ed7953\"],[0.7777777777777778,\"#fb9f3a\"],[0.8888888888888888,\"#fdca26\"],[1.0,\"#f0f921\"]],\"type\":\"contour\"}],\"heatmapgl\":[{\"colorbar\":{\"outlinewidth\":0,\"ticks\":\"\"},\"colorscale\":[[0.0,\"#0d0887\"],[0.1111111111111111,\"#46039f\"],[0.2222222222222222,\"#7201a8\"],[0.3333333333333333,\"#9c179e\"],[0.4444444444444444,\"#bd3786\"],[0.5555555555555556,\"#d8576b\"],[0.6666666666666666,\"#ed7953\"],[0.7777777777777778,\"#fb9f3a\"],[0.8888888888888888,\"#fdca26\"],[1.0,\"#f0f921\"]],\"type\":\"heatmapgl\"}],\"heatmap\":[{\"colorbar\":{\"outlinewidth\":0,\"ticks\":\"\"},\"colorscale\":[[0.0,\"#0d0887\"],[0.1111111111111111,\"#46039f\"],[0.2222222222222222,\"#7201a8\"],[0.3333333333333333,\"#9c179e\"],[0.4444444444444444,\"#bd3786\"],[0.5555555555555556,\"#d8576b\"],[0.6666666666666666,\"#ed7953\"],[0.7777777777777778,\"#fb9f3a\"],[0.8888888888888888,\"#fdca26\"],[1.0,\"#f0f921\"]],\"type\":\"heatmap\"}],\"histogram2dcontour\":[{\"colorbar\":{\"outlinewidth\":0,\"ticks\":\"\"},\"colorscale\":[[0.0,\"#0d0887\"],[0.1111111111111111,\"#46039f\"],[0.2222222222222222,\"#7201a8\"],[0.3333333333333333,\"#9c179e\"],[0.4444444444444444,\"#bd3786\"],[0.5555555555555556,\"#d8576b\"],[0.6666666666666666,\"#ed7953\"],[0.7777777777777778,\"#fb9f3a\"],[0.8888888888888888,\"#fdca26\"],[1.0,\"#f0f921\"]],\"type\":\"histogram2dcontour\"}],\"histogram2d\":[{\"colorbar\":{\"outlinewidth\":0,\"ticks\":\"\"},\"colorscale\":[[0.0,\"#0d0887\"],[0.1111111111111111,\"#46039f\"],[0.2222222222222222,\"#7201a8\"],[0.3333333333333333,\"#9c179e\"],[0.4444444444444444,\"#bd3786\"],[0.5555555555555556,\"#d8576b\"],[0.6666666666666666,\"#ed7953\"],[0.7777777777777778,\"#fb9f3a\"],[0.8888888888888888,\"#fdca26\"],[1.0,\"#f0f921\"]],\"type\":\"histogram2d\"}],\"histogram\":[{\"marker\":{\"pattern\":{\"fillmode\":\"overlay\",\"size\":10,\"solidity\":0.2}},\"type\":\"histogram\"}],\"mesh3d\":[{\"colorbar\":{\"outlinewidth\":0,\"ticks\":\"\"},\"type\":\"mesh3d\"}],\"parcoords\":[{\"line\":{\"colorbar\":{\"outlinewidth\":0,\"ticks\":\"\"}},\"type\":\"parcoords\"}],\"pie\":[{\"automargin\":true,\"type\":\"pie\"}],\"scatter3d\":[{\"line\":{\"colorbar\":{\"outlinewidth\":0,\"ticks\":\"\"}},\"marker\":{\"colorbar\":{\"outlinewidth\":0,\"ticks\":\"\"}},\"type\":\"scatter3d\"}],\"scattercarpet\":[{\"marker\":{\"colorbar\":{\"outlinewidth\":0,\"ticks\":\"\"}},\"type\":\"scattercarpet\"}],\"scattergeo\":[{\"marker\":{\"colorbar\":{\"outlinewidth\":0,\"ticks\":\"\"}},\"type\":\"scattergeo\"}],\"scattergl\":[{\"marker\":{\"colorbar\":{\"outlinewidth\":0,\"ticks\":\"\"}},\"type\":\"scattergl\"}],\"scattermapbox\":[{\"marker\":{\"colorbar\":{\"outlinewidth\":0,\"ticks\":\"\"}},\"type\":\"scattermapbox\"}],\"scatterpolargl\":[{\"marker\":{\"colorbar\":{\"outlinewidth\":0,\"ticks\":\"\"}},\"type\":\"scatterpolargl\"}],\"scatterpolar\":[{\"marker\":{\"colorbar\":{\"outlinewidth\":0,\"ticks\":\"\"}},\"type\":\"scatterpolar\"}],\"scatter\":[{\"fillpattern\":{\"fillmode\":\"overlay\",\"size\":10,\"solidity\":0.2},\"type\":\"scatter\"}],\"scatterternary\":[{\"marker\":{\"colorbar\":{\"outlinewidth\":0,\"ticks\":\"\"}},\"type\":\"scatterternary\"}],\"surface\":[{\"colorbar\":{\"outlinewidth\":0,\"ticks\":\"\"},\"colorscale\":[[0.0,\"#0d0887\"],[0.1111111111111111,\"#46039f\"],[0.2222222222222222,\"#7201a8\"],[0.3333333333333333,\"#9c179e\"],[0.4444444444444444,\"#bd3786\"],[0.5555555555555556,\"#d8576b\"],[0.6666666666666666,\"#ed7953\"],[0.7777777777777778,\"#fb9f3a\"],[0.8888888888888888,\"#fdca26\"],[1.0,\"#f0f921\"]],\"type\":\"surface\"}],\"table\":[{\"cells\":{\"fill\":{\"color\":\"#EBF0F8\"},\"line\":{\"color\":\"white\"}},\"header\":{\"fill\":{\"color\":\"#C8D4E3\"},\"line\":{\"color\":\"white\"}},\"type\":\"table\"}]},\"layout\":{\"annotationdefaults\":{\"arrowcolor\":\"#2a3f5f\",\"arrowhead\":0,\"arrowwidth\":1},\"autotypenumbers\":\"strict\",\"coloraxis\":{\"colorbar\":{\"outlinewidth\":0,\"ticks\":\"\"}},\"colorscale\":{\"diverging\":[[0,\"#8e0152\"],[0.1,\"#c51b7d\"],[0.2,\"#de77ae\"],[0.3,\"#f1b6da\"],[0.4,\"#fde0ef\"],[0.5,\"#f7f7f7\"],[0.6,\"#e6f5d0\"],[0.7,\"#b8e186\"],[0.8,\"#7fbc41\"],[0.9,\"#4d9221\"],[1,\"#276419\"]],\"sequential\":[[0.0,\"#0d0887\"],[0.1111111111111111,\"#46039f\"],[0.2222222222222222,\"#7201a8\"],[0.3333333333333333,\"#9c179e\"],[0.4444444444444444,\"#bd3786\"],[0.5555555555555556,\"#d8576b\"],[0.6666666666666666,\"#ed7953\"],[0.7777777777777778,\"#fb9f3a\"],[0.8888888888888888,\"#fdca26\"],[1.0,\"#f0f921\"]],\"sequentialminus\":[[0.0,\"#0d0887\"],[0.1111111111111111,\"#46039f\"],[0.2222222222222222,\"#7201a8\"],[0.3333333333333333,\"#9c179e\"],[0.4444444444444444,\"#bd3786\"],[0.5555555555555556,\"#d8576b\"],[0.6666666666666666,\"#ed7953\"],[0.7777777777777778,\"#fb9f3a\"],[0.8888888888888888,\"#fdca26\"],[1.0,\"#f0f921\"]]},\"colorway\":[\"#636efa\",\"#EF553B\",\"#00cc96\",\"#ab63fa\",\"#FFA15A\",\"#19d3f3\",\"#FF6692\",\"#B6E880\",\"#FF97FF\",\"#FECB52\"],\"font\":{\"color\":\"#2a3f5f\"},\"geo\":{\"bgcolor\":\"white\",\"lakecolor\":\"white\",\"landcolor\":\"white\",\"showlakes\":true,\"showland\":true,\"subunitcolor\":\"#C8D4E3\"},\"hoverlabel\":{\"align\":\"left\"},\"hovermode\":\"closest\",\"mapbox\":{\"style\":\"light\"},\"paper_bgcolor\":\"white\",\"plot_bgcolor\":\"white\",\"polar\":{\"angularaxis\":{\"gridcolor\":\"#EBF0F8\",\"linecolor\":\"#EBF0F8\",\"ticks\":\"\"},\"bgcolor\":\"white\",\"radialaxis\":{\"gridcolor\":\"#EBF0F8\",\"linecolor\":\"#EBF0F8\",\"ticks\":\"\"}},\"scene\":{\"xaxis\":{\"backgroundcolor\":\"white\",\"gridcolor\":\"#DFE8F3\",\"gridwidth\":2,\"linecolor\":\"#EBF0F8\",\"showbackground\":true,\"ticks\":\"\",\"zerolinecolor\":\"#EBF0F8\"},\"yaxis\":{\"backgroundcolor\":\"white\",\"gridcolor\":\"#DFE8F3\",\"gridwidth\":2,\"linecolor\":\"#EBF0F8\",\"showbackground\":true,\"ticks\":\"\",\"zerolinecolor\":\"#EBF0F8\"},\"zaxis\":{\"backgroundcolor\":\"white\",\"gridcolor\":\"#DFE8F3\",\"gridwidth\":2,\"linecolor\":\"#EBF0F8\",\"showbackground\":true,\"ticks\":\"\",\"zerolinecolor\":\"#EBF0F8\"}},\"shapedefaults\":{\"line\":{\"color\":\"#2a3f5f\"}},\"ternary\":{\"aaxis\":{\"gridcolor\":\"#DFE8F3\",\"linecolor\":\"#A2B1C6\",\"ticks\":\"\"},\"baxis\":{\"gridcolor\":\"#DFE8F3\",\"linecolor\":\"#A2B1C6\",\"ticks\":\"\"},\"bgcolor\":\"white\",\"caxis\":{\"gridcolor\":\"#DFE8F3\",\"linecolor\":\"#A2B1C6\",\"ticks\":\"\"}},\"title\":{\"x\":0.05},\"xaxis\":{\"automargin\":true,\"gridcolor\":\"#EBF0F8\",\"linecolor\":\"#EBF0F8\",\"ticks\":\"\",\"title\":{\"standoff\":15},\"zerolinecolor\":\"#EBF0F8\",\"zerolinewidth\":2},\"yaxis\":{\"automargin\":true,\"gridcolor\":\"#EBF0F8\",\"linecolor\":\"#EBF0F8\",\"ticks\":\"\",\"title\":{\"standoff\":15},\"zerolinecolor\":\"#EBF0F8\",\"zerolinewidth\":2}}},\"yaxis\":{\"title\":{\"text\":\"Avg HLE\"},\"range\":[0,100]},\"xaxis\":{\"title\":{\"text\":\"Year\"},\"tickvals\":[2010,2011,2012,2013,2014,2015,2016,2017,2018,2019,2020,2021],\"ticktext\":[2010,2011,2012,2013,2014,2015,2016,2017,2018,2019,2020,2021]},\"title\":{\"text\":\"Avg HLE Overtime\"},\"barmode\":\"group\"},                        {\"responsive\": true}                    ).then(function(){\n",
       "                            \n",
       "var gd = document.getElementById('7c8266b2-198c-4689-80e1-419c70b8ff94');\n",
       "var x = new MutationObserver(function (mutations, observer) {{\n",
       "        var display = window.getComputedStyle(gd).display;\n",
       "        if (!display || display === 'none') {{\n",
       "            console.log([gd, 'removed!']);\n",
       "            Plotly.purge(gd);\n",
       "            observer.disconnect();\n",
       "        }}\n",
       "}});\n",
       "\n",
       "// Listen for the removal of the full notebook cells\n",
       "var notebookContainer = gd.closest('#notebook-container');\n",
       "if (notebookContainer) {{\n",
       "    x.observe(notebookContainer, {childList: true});\n",
       "}}\n",
       "\n",
       "// Listen for the clearing of the current output cell\n",
       "var outputEl = gd.closest('.output');\n",
       "if (outputEl) {{\n",
       "    x.observe(outputEl, {childList: true});\n",
       "}}\n",
       "\n",
       "                        })                };                });            </script>        </div>"
      ]
     },
     "metadata": {},
     "output_type": "display_data"
    }
   ],
   "source": [
    "fig = go.Figure()\n",
    "\n",
    "# Add bar trace for HLE\n",
    "fig.add_trace(go.Bar(\n",
    "    x=pivot_total_hle['Year'],\n",
    "    y=pivot_total_hle['Avg HLE'],\n",
    "    name='Avg HLE',\n",
    "    marker_color='orange',\n",
    "    text=pivot_total_hle['Avg HLE'],  # Add data labels for CHE\n",
    "    textposition='auto'  # Automatically position the text\n",
    "))\n",
    "\n",
    "\n",
    "# Update layout for better visualization\n",
    "fig.update_layout(\n",
    "    title='Avg HLE Overtime',\n",
    "    xaxis_title='Year',\n",
    "    yaxis_title='Avg HLE',\n",
    "    barmode='group',  # Group bars together\n",
    "    yaxis=dict(range=[0, 100]),\n",
    "    template='plotly_white',  # Optional: change the template for styling\n",
    "    xaxis=dict(\n",
    "        tickvals=pivot_total_hle['Year'],  # Set tick positions to correspond to each country\n",
    "        ticktext=pivot_total_hle['Year'])   # Use country names as tick labels\n",
    ")\n",
    "\n",
    "# Show the plot\n",
    "fig.show()"
   ]
  },
  {
   "cell_type": "code",
   "execution_count": 1065,
   "id": "b85f6a7d-819f-4708-97d8-e8d141b9b2e1",
   "metadata": {},
   "outputs": [],
   "source": [
    "top_countries_hle = combined_df.groupby('Country')['Avg HLE'].avg().nlargest(10).index"
   ]
  },
  {
   "cell_type": "code",
   "execution_count": 1066,
   "id": "a8e712aa-bf90-49d7-82a1-ce250cb0b110",
   "metadata": {},
   "outputs": [
    {
     "name": "stdout",
     "output_type": "stream",
     "text": [
      "Index(['Japan', 'Singapore', 'Republic of Korea', 'Iceland', 'Spain', 'Israel',\n",
      "       'Luxembourg', 'Switzerland', 'Italy', 'Sweden'],\n",
      "      dtype='object', name='Country')\n"
     ]
    }
   ],
   "source": [
    "print(top_countries_hle)"
   ]
  },
  {
   "cell_type": "code",
   "execution_count": 1067,
   "id": "8de467ca-a6de-4284-bb1d-c4da04a967b1",
   "metadata": {},
   "outputs": [],
   "source": [
    "df_hle_top = combined_df[combined_df['Country'].isin(top_countries_hle)]"
   ]
  },
  {
   "cell_type": "code",
   "execution_count": 1068,
   "id": "5819b552-9d74-4cbd-87e3-9a1700b56e8b",
   "metadata": {},
   "outputs": [],
   "source": [
    "pivot_hle_df = df_hle_top.pivot(index='Year', columns='Country', values='Avg HLE')"
   ]
  },
  {
   "cell_type": "code",
   "execution_count": 1069,
   "id": "551cf658-171a-4034-93f5-5b7e010fcaa5",
   "metadata": {},
   "outputs": [
    {
     "name": "stderr",
     "output_type": "stream",
     "text": [
      "/var/folders/4x/r11_vgpj4glbxvp5rrk49znc0000gn/T/ipykernel_4967/2916351137.py:4: MatplotlibDeprecationWarning: The get_cmap function was deprecated in Matplotlib 3.7 and will be removed in 3.11. Use ``matplotlib.colormaps[name]`` or ``matplotlib.colormaps.get_cmap()`` or ``pyplot.get_cmap()`` instead.\n",
      "  cmap = cm.get_cmap('tab10', len(pivot_hle_df.columns))  # 'tab10' is a color palette with distinct colors\n"
     ]
    },
    {
     "data": {
      "image/png": "[encoded data removed]",
      "text/plain": [
       "<Figure size 1200x800 with 1 Axes>"
      ]
     },
     "metadata": {},
     "output_type": "display_data"
    }
   ],
   "source": [
    "plt.figure(figsize=(12, 8))\n",
    "\n",
    "# Get a colormap and set the number of colors to match the number of countries\n",
    "cmap = cm.get_cmap('tab10', len(pivot_hle_df.columns))  # 'tab10' is a color palette with distinct colors\n",
    "\n",
    "# Plot each country with a unique color\n",
    "for i, country in enumerate(pivot_hle_df.columns):\n",
    "    plt.plot(pivot_hle_df.index, pivot_hle_df[country], marker='o', label=country, color=cmap(i))\n",
    "\n",
    "# Title and Axis Labels\n",
    "plt.title('Top 10 Countries by AVG HLE Over Time', fontsize=16)\n",
    "plt.xlabel('Year', fontsize=14)\n",
    "plt.ylabel('CHE per Capita', fontsize=14)\n",
    "\n",
    "# Legend outside of the plot for clarity\n",
    "plt.legend(title='Country', bbox_to_anchor=(1.05, 1), loc='upper left', fontsize=10)\n",
    "\n",
    "# Add grid for readability\n",
    "plt.grid(visible=True, linestyle='--', linewidth=0.5)\n",
    "\n",
    "# Adjust layout to prevent overlap\n",
    "plt.tight_layout()\n",
    "\n",
    "# Show the plot\n",
    "plt.show()"
   ]
  },
  {
   "cell_type": "code",
   "execution_count": 1256,
   "id": "190f0019-f228-43c6-92b8-090e9e4fbb20",
   "metadata": {},
   "outputs": [
    {
     "name": "stdout",
     "output_type": "stream",
     "text": [
      "Continent     Africa   Americas  Eastern Mediterranean    Europe  \\\n",
      "Year                                                               \n",
      "2010       52.535870  63.983939              62.402000  66.34898   \n",
      "2011       53.024130  64.684242              62.454500  66.63920   \n",
      "2012       53.505652  64.803939              62.384211  66.83100   \n",
      "2013       53.928696  64.864848              62.942222  67.12320   \n",
      "2014       54.192391  64.896061              63.043889  67.29840   \n",
      "2015       54.594565  64.916364              63.143333  67.37600   \n",
      "2016       55.008696  64.933939              63.608235  67.59540   \n",
      "2017       55.241915  65.066364              63.812941  67.76940   \n",
      "2018       55.537021  65.140606              64.047059  67.90200   \n",
      "2019       55.822979  65.094848              64.172353  68.08120   \n",
      "2020       55.767447  64.133333              62.921765  67.13020   \n",
      "2021       55.243191  62.933636              62.162941  66.68120   \n",
      "\n",
      "Continent  South-East Asia  Western Pacific  \n",
      "Year                                         \n",
      "2010                61.419        62.946190  \n",
      "2011                61.821        63.070952  \n",
      "2012                62.219        63.238571  \n",
      "2013                62.491        63.395238  \n",
      "2014                62.748        63.524762  \n",
      "2015                62.957        63.605238  \n",
      "2016                63.239        63.733333  \n",
      "2017                63.412        63.837619  \n",
      "2018                63.637        63.924762  \n",
      "2019                63.560        64.063333  \n",
      "2020                63.558        64.281905  \n",
      "2021                62.531        63.540000  \n"
     ]
    }
   ],
   "source": [
    "# top continents HLE overtime\n",
    "pivot_continents_hle = combined_df.pivot_table(index='Year', columns='Continent', values='Avg HLE', aggfunc='mean', fill_value=0)\n",
    "print(pivot_continents_hle)"
   ]
  },
  {
   "cell_type": "code",
   "execution_count": 1272,
   "id": "4feb00c9-4dc2-4878-9a78-1bb70d9cf4ec",
   "metadata": {},
   "outputs": [
    {
     "data": {
      "image/png": "[encoded data removed]",
      "text/plain": [
       "<Figure size 1000x600 with 1 Axes>"
      ]
     },
     "metadata": {},
     "output_type": "display_data"
    }
   ],
   "source": [
    "import matplotlib.pyplot as plt\n",
    "\n",
    "# Plotting the pivot table as a line graph\n",
    "ax = pivot_continents_hle.plot(kind='line', marker='o', figsize=(10, 6))\n",
    "\n",
    "# Title and labels\n",
    "plt.title('Healthy Life Expectancy (HLE) by Continent Over Years', fontsize=16)\n",
    "plt.xlabel('Year', fontsize=12)\n",
    "plt.ylabel('Healthy Life Expectancy (HLE)', fontsize=12)\n",
    "plt.xticks(rotation=45)  # Rotate x-axis labels for better readability\n",
    "\n",
    "# Set Y-axis range\n",
    "# plt.ylim(50, 80)  # Adjust the range as needed\n",
    "\n",
    "# Place the legend outside the graph\n",
    "plt.legend(title='Continent', bbox_to_anchor=(1.05, 1), loc='upper left')  # Adjust as necessary\n",
    "\n",
    "# Show the plot\n",
    "plt.tight_layout()\n",
    "plt.show()"
   ]
  },
  {
   "cell_type": "code",
   "execution_count": null,
   "id": "6329d070-03d0-4cb2-bb80-de513d31a66a",
   "metadata": {},
   "outputs": [],
   "source": []
  }
 ],
 "metadata": {
  "kernelspec": {
   "display_name": "Python 3 (ipykernel)",
   "language": "python",
   "name": "python3"
  },
  "language_info": {
   "codemirror_mode": {
    "name": "ipython",
    "version": 3
   },
   "file_extension": ".py",
   "mimetype": "text/x-python",
   "name": "python",
   "nbconvert_exporter": "python",
   "pygments_lexer": "ipython3",
   "version": "3.12.7"
  }
 },
 "nbformat": 4,
 "nbformat_minor": 5
}
